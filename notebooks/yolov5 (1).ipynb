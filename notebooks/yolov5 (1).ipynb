{
  "metadata": {
    "kernelspec": {
      "display_name": "Python 3",
      "name": "python3"
    },
    "language_info": {
      "pygments_lexer": "ipython3",
      "nbconvert_exporter": "python",
      "version": "3.6.4",
      "file_extension": ".py",
      "codemirror_mode": {
        "name": "ipython",
        "version": 3
      },
      "name": "python",
      "mimetype": "text/x-python"
    },
    "kaggle": {
      "accelerator": "nvidiaTeslaT4",
      "dataSources": [
        {
          "sourceId": 1181356,
          "sourceType": "datasetVersion",
          "datasetId": 671172
        }
      ],
      "dockerImageVersionId": 30527,
      "isInternetEnabled": false,
      "language": "python",
      "sourceType": "notebook",
      "isGpuEnabled": true
    },
    "colab": {
      "provenance": [],
      "gpuType": "T4"
    },
    "accelerator": "GPU"
  },
  "nbformat_minor": 0,
  "nbformat": 4,
  "cells": [
    {
      "cell_type": "code",
      "source": [
        "!pip install torch torchvision pillow pybboxes kaggle -q"
      ],
      "metadata": {
        "id": "MI5IJVhILgsZ"
      },
      "execution_count": 11,
      "outputs": []
    },
    {
      "cell_type": "code",
      "source": [
        "!mkdir ~/.kaggle\n",
        "!cp kaggle.json ~/.kaggle/\n",
        "!chmod 600 ~/.kaggle/kaggle.json"
      ],
      "metadata": {
        "colab": {
          "base_uri": "https://localhost:8080/"
        },
        "id": "dhncXqgTLYyI",
        "outputId": "e2d60f31-0065-4009-abef-36b5025fd7c3"
      },
      "execution_count": 12,
      "outputs": [
        {
          "output_type": "stream",
          "name": "stdout",
          "text": [
            "mkdir: cannot create directory ‘/root/.kaggle’: File exists\n"
          ]
        }
      ]
    },
    {
      "cell_type": "code",
      "source": [
        "!kaggle datasets download -d andrewmvd/road-sign-detection\n",
        "!mkdir \"kaggle\"\n",
        "!mkdir \"kaggle/input\"\n",
        "!unzip road-sign-detection.zip -d \"kaggle/input/\""
      ],
      "metadata": {
        "id": "8bODY_iILjDg"
      },
      "execution_count": null,
      "outputs": []
    },
    {
      "cell_type": "code",
      "source": [
        "import numpy as np # linear algebra\n",
        "import pandas as pd # data processing, CSV file I/O (e.g. pd.read_csv)\n",
        "import os"
      ],
      "metadata": {
        "_uuid": "8f2839f25d086af736a60e9eeb907d3b93b6e0e5",
        "_cell_guid": "b1076dfc-b9ad-4769-8c92-a6c4dae69d19",
        "execution": {
          "iopub.status.busy": "2023-07-26T21:07:06.476372Z",
          "iopub.execute_input": "2023-07-26T21:07:06.476751Z",
          "iopub.status.idle": "2023-07-26T21:07:06.687008Z",
          "shell.execute_reply.started": "2023-07-26T21:07:06.476718Z",
          "shell.execute_reply": "2023-07-26T21:07:06.686052Z"
        },
        "trusted": true,
        "id": "rfmsIXqjKZOD"
      },
      "execution_count": 14,
      "outputs": []
    },
    {
      "cell_type": "code",
      "source": [
        "!git clone https://github.com/ultralytics/yolov5"
      ],
      "metadata": {
        "execution": {
          "iopub.status.busy": "2023-07-26T21:07:07.364184Z",
          "iopub.execute_input": "2023-07-26T21:07:07.364565Z",
          "iopub.status.idle": "2023-07-26T21:07:10.3441Z",
          "shell.execute_reply.started": "2023-07-26T21:07:07.364532Z",
          "shell.execute_reply": "2023-07-26T21:07:10.342954Z"
        },
        "trusted": true,
        "id": "mbjwPv16KZOG",
        "colab": {
          "base_uri": "https://localhost:8080/"
        },
        "outputId": "2fa4795c-b73f-4eaf-db98-792d3a89279f"
      },
      "execution_count": 15,
      "outputs": [
        {
          "output_type": "stream",
          "name": "stdout",
          "text": [
            "fatal: destination path 'yolov5' already exists and is not an empty directory.\n"
          ]
        }
      ]
    },
    {
      "cell_type": "code",
      "source": [
        "!mkdir \"kaggle/working\"\n",
        "!cp -r yolov5 kaggle/working/"
      ],
      "metadata": {
        "colab": {
          "base_uri": "https://localhost:8080/"
        },
        "id": "HYPfcjAzMwE5",
        "outputId": "748e21d7-b61f-4610-c717-13987722f655"
      },
      "execution_count": 16,
      "outputs": [
        {
          "output_type": "stream",
          "name": "stdout",
          "text": [
            "mkdir: cannot create directory ‘kaggle/working’: File exists\n"
          ]
        }
      ]
    },
    {
      "cell_type": "code",
      "source": [
        "!pip install -r yolov5/requirements.txt -q"
      ],
      "metadata": {
        "execution": {
          "iopub.status.busy": "2023-07-26T21:07:14.998103Z",
          "iopub.execute_input": "2023-07-26T21:07:14.99887Z",
          "iopub.status.idle": "2023-07-26T21:07:41.551467Z",
          "shell.execute_reply.started": "2023-07-26T21:07:14.998833Z",
          "shell.execute_reply": "2023-07-26T21:07:41.550247Z"
        },
        "trusted": true,
        "id": "xmPlc8mvKZOG"
      },
      "execution_count": 17,
      "outputs": []
    },
    {
      "cell_type": "code",
      "source": [
        "import xml.etree.ElementTree as ET\n",
        "import os\n",
        "from tqdm import tqdm\n",
        "import pandas as pd"
      ],
      "metadata": {
        "execution": {
          "iopub.status.busy": "2023-07-26T21:08:01.432044Z",
          "iopub.execute_input": "2023-07-26T21:08:01.432419Z",
          "iopub.status.idle": "2023-07-26T21:08:01.437161Z",
          "shell.execute_reply.started": "2023-07-26T21:08:01.432388Z",
          "shell.execute_reply": "2023-07-26T21:08:01.436153Z"
        },
        "trusted": true,
        "id": "lBNMJERvKZOH"
      },
      "execution_count": 18,
      "outputs": []
    },
    {
      "cell_type": "code",
      "source": [
        "input_path = 'kaggle/input/'\n",
        "output_path = 'kaggle/working/yolov5'"
      ],
      "metadata": {
        "execution": {
          "iopub.status.busy": "2023-07-26T21:08:01.680308Z",
          "iopub.execute_input": "2023-07-26T21:08:01.681046Z",
          "iopub.status.idle": "2023-07-26T21:08:01.687949Z",
          "shell.execute_reply.started": "2023-07-26T21:08:01.681003Z",
          "shell.execute_reply": "2023-07-26T21:08:01.686664Z"
        },
        "trusted": true,
        "id": "iZHiPhquKZOH"
      },
      "execution_count": 19,
      "outputs": []
    },
    {
      "cell_type": "code",
      "source": [
        "annotations_path = os.path.join(input_path, 'annotations')\n",
        "annotations = os.listdir(annotations_path)"
      ],
      "metadata": {
        "execution": {
          "iopub.status.busy": "2023-07-26T21:08:01.920365Z",
          "iopub.execute_input": "2023-07-26T21:08:01.922451Z",
          "iopub.status.idle": "2023-07-26T21:08:01.928535Z",
          "shell.execute_reply.started": "2023-07-26T21:08:01.922397Z",
          "shell.execute_reply": "2023-07-26T21:08:01.927617Z"
        },
        "trusted": true,
        "id": "B8eIz431KZOH"
      },
      "execution_count": 20,
      "outputs": []
    },
    {
      "cell_type": "code",
      "source": [
        "img_name_list = []\n",
        "width_list = []\n",
        "height_list = []\n",
        "label_list = []\n",
        "xmin_list = []\n",
        "ymin_list = []\n",
        "xmax_list = []\n",
        "ymax_list = []\n",
        "\n",
        "for idx in tqdm(range(len(annotations))):\n",
        "\n",
        "    tree = ET.parse(os.path.join(annotations_path, annotations[idx]))\n",
        "    root = tree.getroot()\n",
        "\n",
        "    img_name = root.find('filename').text\n",
        "\n",
        "    size = root.find('size')\n",
        "    width = size.find('width').text\n",
        "    height = size.find('height').text\n",
        "\n",
        "    for group in root.findall('object'):\n",
        "        label = group.find('name').text\n",
        "        bbox = group.find('bndbox')\n",
        "        xmin = bbox.find('xmin').text\n",
        "        ymin = bbox.find('ymin').text\n",
        "        xmax = bbox.find('xmax').text\n",
        "        ymax = bbox.find('ymax').text\n",
        "\n",
        "        img_name_list.append(img_name)\n",
        "        width_list.append(width)\n",
        "        height_list.append(height)\n",
        "        xmin_list.append(xmin)\n",
        "        ymin_list.append(ymin)\n",
        "        xmax_list.append(xmax)\n",
        "        ymax_list.append(ymax)\n",
        "        label_list.append(label)"
      ],
      "metadata": {
        "execution": {
          "iopub.status.busy": "2023-07-26T21:08:02.194246Z",
          "iopub.execute_input": "2023-07-26T21:08:02.194579Z",
          "iopub.status.idle": "2023-07-26T21:08:04.803898Z",
          "shell.execute_reply.started": "2023-07-26T21:08:02.194551Z",
          "shell.execute_reply": "2023-07-26T21:08:04.802842Z"
        },
        "trusted": true,
        "id": "nDZtlP08KZOH",
        "colab": {
          "base_uri": "https://localhost:8080/"
        },
        "outputId": "8287c291-0f1e-4993-bc3c-b6830ccd35d6"
      },
      "execution_count": 21,
      "outputs": [
        {
          "output_type": "stream",
          "name": "stderr",
          "text": [
            "100%|██████████| 877/877 [00:00<00:00, 6441.05it/s]\n"
          ]
        }
      ]
    },
    {
      "cell_type": "code",
      "source": [
        "labels_df = pd.DataFrame({\n",
        "                        'img_name': img_name_list,\n",
        "                        'width': width_list,\n",
        "                        'height': height_list,\n",
        "                        'xmin': xmin_list,\n",
        "                        'ymin': ymin_list,\n",
        "                        'xmax': xmax_list,\n",
        "                        'ymax': ymax_list,\n",
        "                        'label': label_list})\n",
        "labels_df.head()"
      ],
      "metadata": {
        "execution": {
          "iopub.status.busy": "2023-07-26T21:08:04.805717Z",
          "iopub.execute_input": "2023-07-26T21:08:04.806228Z",
          "iopub.status.idle": "2023-07-26T21:08:04.834788Z",
          "shell.execute_reply.started": "2023-07-26T21:08:04.806192Z",
          "shell.execute_reply": "2023-07-26T21:08:04.833752Z"
        },
        "trusted": true,
        "id": "q0YIpFlXKZOH",
        "colab": {
          "base_uri": "https://localhost:8080/",
          "height": 206
        },
        "outputId": "be2e4571-4a19-45e1-b681-1388495518c1"
      },
      "execution_count": 22,
      "outputs": [
        {
          "output_type": "execute_result",
          "data": {
            "text/plain": [
              "      img_name width height xmin ymin xmax ymax       label\n",
              "0  road747.png   300    400  235   99  299  171  speedlimit\n",
              "1  road747.png   300    400  228  214  298  288  speedlimit\n",
              "2  road529.png   300    400  170  151  249  249  speedlimit\n",
              "3  road210.png   300    400  179  135  199  156  speedlimit\n",
              "4  road498.png   300    400   86  130  118  171  speedlimit"
            ],
            "text/html": [
              "\n",
              "  <div id=\"df-99aee58d-e0b4-43f7-8447-e22332c8f10d\" class=\"colab-df-container\">\n",
              "    <div>\n",
              "<style scoped>\n",
              "    .dataframe tbody tr th:only-of-type {\n",
              "        vertical-align: middle;\n",
              "    }\n",
              "\n",
              "    .dataframe tbody tr th {\n",
              "        vertical-align: top;\n",
              "    }\n",
              "\n",
              "    .dataframe thead th {\n",
              "        text-align: right;\n",
              "    }\n",
              "</style>\n",
              "<table border=\"1\" class=\"dataframe\">\n",
              "  <thead>\n",
              "    <tr style=\"text-align: right;\">\n",
              "      <th></th>\n",
              "      <th>img_name</th>\n",
              "      <th>width</th>\n",
              "      <th>height</th>\n",
              "      <th>xmin</th>\n",
              "      <th>ymin</th>\n",
              "      <th>xmax</th>\n",
              "      <th>ymax</th>\n",
              "      <th>label</th>\n",
              "    </tr>\n",
              "  </thead>\n",
              "  <tbody>\n",
              "    <tr>\n",
              "      <th>0</th>\n",
              "      <td>road747.png</td>\n",
              "      <td>300</td>\n",
              "      <td>400</td>\n",
              "      <td>235</td>\n",
              "      <td>99</td>\n",
              "      <td>299</td>\n",
              "      <td>171</td>\n",
              "      <td>speedlimit</td>\n",
              "    </tr>\n",
              "    <tr>\n",
              "      <th>1</th>\n",
              "      <td>road747.png</td>\n",
              "      <td>300</td>\n",
              "      <td>400</td>\n",
              "      <td>228</td>\n",
              "      <td>214</td>\n",
              "      <td>298</td>\n",
              "      <td>288</td>\n",
              "      <td>speedlimit</td>\n",
              "    </tr>\n",
              "    <tr>\n",
              "      <th>2</th>\n",
              "      <td>road529.png</td>\n",
              "      <td>300</td>\n",
              "      <td>400</td>\n",
              "      <td>170</td>\n",
              "      <td>151</td>\n",
              "      <td>249</td>\n",
              "      <td>249</td>\n",
              "      <td>speedlimit</td>\n",
              "    </tr>\n",
              "    <tr>\n",
              "      <th>3</th>\n",
              "      <td>road210.png</td>\n",
              "      <td>300</td>\n",
              "      <td>400</td>\n",
              "      <td>179</td>\n",
              "      <td>135</td>\n",
              "      <td>199</td>\n",
              "      <td>156</td>\n",
              "      <td>speedlimit</td>\n",
              "    </tr>\n",
              "    <tr>\n",
              "      <th>4</th>\n",
              "      <td>road498.png</td>\n",
              "      <td>300</td>\n",
              "      <td>400</td>\n",
              "      <td>86</td>\n",
              "      <td>130</td>\n",
              "      <td>118</td>\n",
              "      <td>171</td>\n",
              "      <td>speedlimit</td>\n",
              "    </tr>\n",
              "  </tbody>\n",
              "</table>\n",
              "</div>\n",
              "    <div class=\"colab-df-buttons\">\n",
              "\n",
              "  <div class=\"colab-df-container\">\n",
              "    <button class=\"colab-df-convert\" onclick=\"convertToInteractive('df-99aee58d-e0b4-43f7-8447-e22332c8f10d')\"\n",
              "            title=\"Convert this dataframe to an interactive table.\"\n",
              "            style=\"display:none;\">\n",
              "\n",
              "  <svg xmlns=\"http://www.w3.org/2000/svg\" height=\"24px\" viewBox=\"0 -960 960 960\">\n",
              "    <path d=\"M120-120v-720h720v720H120Zm60-500h600v-160H180v160Zm220 220h160v-160H400v160Zm0 220h160v-160H400v160ZM180-400h160v-160H180v160Zm440 0h160v-160H620v160ZM180-180h160v-160H180v160Zm440 0h160v-160H620v160Z\"/>\n",
              "  </svg>\n",
              "    </button>\n",
              "\n",
              "  <style>\n",
              "    .colab-df-container {\n",
              "      display:flex;\n",
              "      gap: 12px;\n",
              "    }\n",
              "\n",
              "    .colab-df-convert {\n",
              "      background-color: #E8F0FE;\n",
              "      border: none;\n",
              "      border-radius: 50%;\n",
              "      cursor: pointer;\n",
              "      display: none;\n",
              "      fill: #1967D2;\n",
              "      height: 32px;\n",
              "      padding: 0 0 0 0;\n",
              "      width: 32px;\n",
              "    }\n",
              "\n",
              "    .colab-df-convert:hover {\n",
              "      background-color: #E2EBFA;\n",
              "      box-shadow: 0px 1px 2px rgba(60, 64, 67, 0.3), 0px 1px 3px 1px rgba(60, 64, 67, 0.15);\n",
              "      fill: #174EA6;\n",
              "    }\n",
              "\n",
              "    .colab-df-buttons div {\n",
              "      margin-bottom: 4px;\n",
              "    }\n",
              "\n",
              "    [theme=dark] .colab-df-convert {\n",
              "      background-color: #3B4455;\n",
              "      fill: #D2E3FC;\n",
              "    }\n",
              "\n",
              "    [theme=dark] .colab-df-convert:hover {\n",
              "      background-color: #434B5C;\n",
              "      box-shadow: 0px 1px 3px 1px rgba(0, 0, 0, 0.15);\n",
              "      filter: drop-shadow(0px 1px 2px rgba(0, 0, 0, 0.3));\n",
              "      fill: #FFFFFF;\n",
              "    }\n",
              "  </style>\n",
              "\n",
              "    <script>\n",
              "      const buttonEl =\n",
              "        document.querySelector('#df-99aee58d-e0b4-43f7-8447-e22332c8f10d button.colab-df-convert');\n",
              "      buttonEl.style.display =\n",
              "        google.colab.kernel.accessAllowed ? 'block' : 'none';\n",
              "\n",
              "      async function convertToInteractive(key) {\n",
              "        const element = document.querySelector('#df-99aee58d-e0b4-43f7-8447-e22332c8f10d');\n",
              "        const dataTable =\n",
              "          await google.colab.kernel.invokeFunction('convertToInteractive',\n",
              "                                                    [key], {});\n",
              "        if (!dataTable) return;\n",
              "\n",
              "        const docLinkHtml = 'Like what you see? Visit the ' +\n",
              "          '<a target=\"_blank\" href=https://colab.research.google.com/notebooks/data_table.ipynb>data table notebook</a>'\n",
              "          + ' to learn more about interactive tables.';\n",
              "        element.innerHTML = '';\n",
              "        dataTable['output_type'] = 'display_data';\n",
              "        await google.colab.output.renderOutput(dataTable, element);\n",
              "        const docLink = document.createElement('div');\n",
              "        docLink.innerHTML = docLinkHtml;\n",
              "        element.appendChild(docLink);\n",
              "      }\n",
              "    </script>\n",
              "  </div>\n",
              "\n",
              "\n",
              "<div id=\"df-d1c784b8-404a-4dd9-859b-5738f54eba64\">\n",
              "  <button class=\"colab-df-quickchart\" onclick=\"quickchart('df-d1c784b8-404a-4dd9-859b-5738f54eba64')\"\n",
              "            title=\"Suggest charts\"\n",
              "            style=\"display:none;\">\n",
              "\n",
              "<svg xmlns=\"http://www.w3.org/2000/svg\" height=\"24px\"viewBox=\"0 0 24 24\"\n",
              "     width=\"24px\">\n",
              "    <g>\n",
              "        <path d=\"M19 3H5c-1.1 0-2 .9-2 2v14c0 1.1.9 2 2 2h14c1.1 0 2-.9 2-2V5c0-1.1-.9-2-2-2zM9 17H7v-7h2v7zm4 0h-2V7h2v10zm4 0h-2v-4h2v4z\"/>\n",
              "    </g>\n",
              "</svg>\n",
              "  </button>\n",
              "\n",
              "<style>\n",
              "  .colab-df-quickchart {\n",
              "      --bg-color: #E8F0FE;\n",
              "      --fill-color: #1967D2;\n",
              "      --hover-bg-color: #E2EBFA;\n",
              "      --hover-fill-color: #174EA6;\n",
              "      --disabled-fill-color: #AAA;\n",
              "      --disabled-bg-color: #DDD;\n",
              "  }\n",
              "\n",
              "  [theme=dark] .colab-df-quickchart {\n",
              "      --bg-color: #3B4455;\n",
              "      --fill-color: #D2E3FC;\n",
              "      --hover-bg-color: #434B5C;\n",
              "      --hover-fill-color: #FFFFFF;\n",
              "      --disabled-bg-color: #3B4455;\n",
              "      --disabled-fill-color: #666;\n",
              "  }\n",
              "\n",
              "  .colab-df-quickchart {\n",
              "    background-color: var(--bg-color);\n",
              "    border: none;\n",
              "    border-radius: 50%;\n",
              "    cursor: pointer;\n",
              "    display: none;\n",
              "    fill: var(--fill-color);\n",
              "    height: 32px;\n",
              "    padding: 0;\n",
              "    width: 32px;\n",
              "  }\n",
              "\n",
              "  .colab-df-quickchart:hover {\n",
              "    background-color: var(--hover-bg-color);\n",
              "    box-shadow: 0 1px 2px rgba(60, 64, 67, 0.3), 0 1px 3px 1px rgba(60, 64, 67, 0.15);\n",
              "    fill: var(--button-hover-fill-color);\n",
              "  }\n",
              "\n",
              "  .colab-df-quickchart-complete:disabled,\n",
              "  .colab-df-quickchart-complete:disabled:hover {\n",
              "    background-color: var(--disabled-bg-color);\n",
              "    fill: var(--disabled-fill-color);\n",
              "    box-shadow: none;\n",
              "  }\n",
              "\n",
              "  .colab-df-spinner {\n",
              "    border: 2px solid var(--fill-color);\n",
              "    border-color: transparent;\n",
              "    border-bottom-color: var(--fill-color);\n",
              "    animation:\n",
              "      spin 1s steps(1) infinite;\n",
              "  }\n",
              "\n",
              "  @keyframes spin {\n",
              "    0% {\n",
              "      border-color: transparent;\n",
              "      border-bottom-color: var(--fill-color);\n",
              "      border-left-color: var(--fill-color);\n",
              "    }\n",
              "    20% {\n",
              "      border-color: transparent;\n",
              "      border-left-color: var(--fill-color);\n",
              "      border-top-color: var(--fill-color);\n",
              "    }\n",
              "    30% {\n",
              "      border-color: transparent;\n",
              "      border-left-color: var(--fill-color);\n",
              "      border-top-color: var(--fill-color);\n",
              "      border-right-color: var(--fill-color);\n",
              "    }\n",
              "    40% {\n",
              "      border-color: transparent;\n",
              "      border-right-color: var(--fill-color);\n",
              "      border-top-color: var(--fill-color);\n",
              "    }\n",
              "    60% {\n",
              "      border-color: transparent;\n",
              "      border-right-color: var(--fill-color);\n",
              "    }\n",
              "    80% {\n",
              "      border-color: transparent;\n",
              "      border-right-color: var(--fill-color);\n",
              "      border-bottom-color: var(--fill-color);\n",
              "    }\n",
              "    90% {\n",
              "      border-color: transparent;\n",
              "      border-bottom-color: var(--fill-color);\n",
              "    }\n",
              "  }\n",
              "</style>\n",
              "\n",
              "  <script>\n",
              "    async function quickchart(key) {\n",
              "      const quickchartButtonEl =\n",
              "        document.querySelector('#' + key + ' button');\n",
              "      quickchartButtonEl.disabled = true;  // To prevent multiple clicks.\n",
              "      quickchartButtonEl.classList.add('colab-df-spinner');\n",
              "      try {\n",
              "        const charts = await google.colab.kernel.invokeFunction(\n",
              "            'suggestCharts', [key], {});\n",
              "      } catch (error) {\n",
              "        console.error('Error during call to suggestCharts:', error);\n",
              "      }\n",
              "      quickchartButtonEl.classList.remove('colab-df-spinner');\n",
              "      quickchartButtonEl.classList.add('colab-df-quickchart-complete');\n",
              "    }\n",
              "    (() => {\n",
              "      let quickchartButtonEl =\n",
              "        document.querySelector('#df-d1c784b8-404a-4dd9-859b-5738f54eba64 button');\n",
              "      quickchartButtonEl.style.display =\n",
              "        google.colab.kernel.accessAllowed ? 'block' : 'none';\n",
              "    })();\n",
              "  </script>\n",
              "</div>\n",
              "    </div>\n",
              "  </div>\n"
            ]
          },
          "metadata": {},
          "execution_count": 22
        }
      ]
    },
    {
      "cell_type": "code",
      "source": [
        "import numpy as np\n",
        "import pandas as pd\n",
        "import os\n",
        "import pybboxes as pbx\n",
        "from collections import defaultdict\n",
        "from tqdm import tqdm\n",
        "import shutil"
      ],
      "metadata": {
        "execution": {
          "iopub.status.busy": "2023-07-26T21:08:17.328431Z",
          "iopub.execute_input": "2023-07-26T21:08:17.329101Z",
          "iopub.status.idle": "2023-07-26T21:08:17.344442Z",
          "shell.execute_reply.started": "2023-07-26T21:08:17.329066Z",
          "shell.execute_reply": "2023-07-26T21:08:17.343495Z"
        },
        "trusted": true,
        "id": "Ohj_9SMwKZOI"
      },
      "execution_count": 23,
      "outputs": []
    },
    {
      "cell_type": "code",
      "source": [
        "classes = labels_df['label'].unique().tolist()\n",
        "classes"
      ],
      "metadata": {
        "execution": {
          "iopub.status.busy": "2023-07-26T21:08:17.346016Z",
          "iopub.execute_input": "2023-07-26T21:08:17.346415Z",
          "iopub.status.idle": "2023-07-26T21:08:17.357592Z",
          "shell.execute_reply.started": "2023-07-26T21:08:17.346329Z",
          "shell.execute_reply": "2023-07-26T21:08:17.356739Z"
        },
        "trusted": true,
        "id": "FmdjgLdoKZOJ",
        "colab": {
          "base_uri": "https://localhost:8080/"
        },
        "outputId": "239f494c-834b-4854-a9a2-03beb423eb9c"
      },
      "execution_count": 24,
      "outputs": [
        {
          "output_type": "execute_result",
          "data": {
            "text/plain": [
              "['speedlimit', 'trafficlight', 'crosswalk', 'stop']"
            ]
          },
          "metadata": {},
          "execution_count": 24
        }
      ]
    },
    {
      "cell_type": "code",
      "source": [
        "## Add class number associated to classes\n",
        "labels_df['class'] = labels_df['label'].apply(lambda x: classes.index(x))\n",
        "labels_df.head()"
      ],
      "metadata": {
        "execution": {
          "iopub.status.busy": "2023-07-26T21:08:17.359952Z",
          "iopub.execute_input": "2023-07-26T21:08:17.360326Z",
          "iopub.status.idle": "2023-07-26T21:08:17.383812Z",
          "shell.execute_reply.started": "2023-07-26T21:08:17.360295Z",
          "shell.execute_reply": "2023-07-26T21:08:17.382917Z"
        },
        "trusted": true,
        "id": "U0Pemz45KZOJ",
        "colab": {
          "base_uri": "https://localhost:8080/",
          "height": 206
        },
        "outputId": "6bf90fed-0709-42ed-961c-9f6973fa0ad3"
      },
      "execution_count": 25,
      "outputs": [
        {
          "output_type": "execute_result",
          "data": {
            "text/plain": [
              "      img_name width height xmin ymin xmax ymax       label  class\n",
              "0  road747.png   300    400  235   99  299  171  speedlimit      0\n",
              "1  road747.png   300    400  228  214  298  288  speedlimit      0\n",
              "2  road529.png   300    400  170  151  249  249  speedlimit      0\n",
              "3  road210.png   300    400  179  135  199  156  speedlimit      0\n",
              "4  road498.png   300    400   86  130  118  171  speedlimit      0"
            ],
            "text/html": [
              "\n",
              "  <div id=\"df-750a59ef-39a9-4ac6-82be-8c8ffd208181\" class=\"colab-df-container\">\n",
              "    <div>\n",
              "<style scoped>\n",
              "    .dataframe tbody tr th:only-of-type {\n",
              "        vertical-align: middle;\n",
              "    }\n",
              "\n",
              "    .dataframe tbody tr th {\n",
              "        vertical-align: top;\n",
              "    }\n",
              "\n",
              "    .dataframe thead th {\n",
              "        text-align: right;\n",
              "    }\n",
              "</style>\n",
              "<table border=\"1\" class=\"dataframe\">\n",
              "  <thead>\n",
              "    <tr style=\"text-align: right;\">\n",
              "      <th></th>\n",
              "      <th>img_name</th>\n",
              "      <th>width</th>\n",
              "      <th>height</th>\n",
              "      <th>xmin</th>\n",
              "      <th>ymin</th>\n",
              "      <th>xmax</th>\n",
              "      <th>ymax</th>\n",
              "      <th>label</th>\n",
              "      <th>class</th>\n",
              "    </tr>\n",
              "  </thead>\n",
              "  <tbody>\n",
              "    <tr>\n",
              "      <th>0</th>\n",
              "      <td>road747.png</td>\n",
              "      <td>300</td>\n",
              "      <td>400</td>\n",
              "      <td>235</td>\n",
              "      <td>99</td>\n",
              "      <td>299</td>\n",
              "      <td>171</td>\n",
              "      <td>speedlimit</td>\n",
              "      <td>0</td>\n",
              "    </tr>\n",
              "    <tr>\n",
              "      <th>1</th>\n",
              "      <td>road747.png</td>\n",
              "      <td>300</td>\n",
              "      <td>400</td>\n",
              "      <td>228</td>\n",
              "      <td>214</td>\n",
              "      <td>298</td>\n",
              "      <td>288</td>\n",
              "      <td>speedlimit</td>\n",
              "      <td>0</td>\n",
              "    </tr>\n",
              "    <tr>\n",
              "      <th>2</th>\n",
              "      <td>road529.png</td>\n",
              "      <td>300</td>\n",
              "      <td>400</td>\n",
              "      <td>170</td>\n",
              "      <td>151</td>\n",
              "      <td>249</td>\n",
              "      <td>249</td>\n",
              "      <td>speedlimit</td>\n",
              "      <td>0</td>\n",
              "    </tr>\n",
              "    <tr>\n",
              "      <th>3</th>\n",
              "      <td>road210.png</td>\n",
              "      <td>300</td>\n",
              "      <td>400</td>\n",
              "      <td>179</td>\n",
              "      <td>135</td>\n",
              "      <td>199</td>\n",
              "      <td>156</td>\n",
              "      <td>speedlimit</td>\n",
              "      <td>0</td>\n",
              "    </tr>\n",
              "    <tr>\n",
              "      <th>4</th>\n",
              "      <td>road498.png</td>\n",
              "      <td>300</td>\n",
              "      <td>400</td>\n",
              "      <td>86</td>\n",
              "      <td>130</td>\n",
              "      <td>118</td>\n",
              "      <td>171</td>\n",
              "      <td>speedlimit</td>\n",
              "      <td>0</td>\n",
              "    </tr>\n",
              "  </tbody>\n",
              "</table>\n",
              "</div>\n",
              "    <div class=\"colab-df-buttons\">\n",
              "\n",
              "  <div class=\"colab-df-container\">\n",
              "    <button class=\"colab-df-convert\" onclick=\"convertToInteractive('df-750a59ef-39a9-4ac6-82be-8c8ffd208181')\"\n",
              "            title=\"Convert this dataframe to an interactive table.\"\n",
              "            style=\"display:none;\">\n",
              "\n",
              "  <svg xmlns=\"http://www.w3.org/2000/svg\" height=\"24px\" viewBox=\"0 -960 960 960\">\n",
              "    <path d=\"M120-120v-720h720v720H120Zm60-500h600v-160H180v160Zm220 220h160v-160H400v160Zm0 220h160v-160H400v160ZM180-400h160v-160H180v160Zm440 0h160v-160H620v160ZM180-180h160v-160H180v160Zm440 0h160v-160H620v160Z\"/>\n",
              "  </svg>\n",
              "    </button>\n",
              "\n",
              "  <style>\n",
              "    .colab-df-container {\n",
              "      display:flex;\n",
              "      gap: 12px;\n",
              "    }\n",
              "\n",
              "    .colab-df-convert {\n",
              "      background-color: #E8F0FE;\n",
              "      border: none;\n",
              "      border-radius: 50%;\n",
              "      cursor: pointer;\n",
              "      display: none;\n",
              "      fill: #1967D2;\n",
              "      height: 32px;\n",
              "      padding: 0 0 0 0;\n",
              "      width: 32px;\n",
              "    }\n",
              "\n",
              "    .colab-df-convert:hover {\n",
              "      background-color: #E2EBFA;\n",
              "      box-shadow: 0px 1px 2px rgba(60, 64, 67, 0.3), 0px 1px 3px 1px rgba(60, 64, 67, 0.15);\n",
              "      fill: #174EA6;\n",
              "    }\n",
              "\n",
              "    .colab-df-buttons div {\n",
              "      margin-bottom: 4px;\n",
              "    }\n",
              "\n",
              "    [theme=dark] .colab-df-convert {\n",
              "      background-color: #3B4455;\n",
              "      fill: #D2E3FC;\n",
              "    }\n",
              "\n",
              "    [theme=dark] .colab-df-convert:hover {\n",
              "      background-color: #434B5C;\n",
              "      box-shadow: 0px 1px 3px 1px rgba(0, 0, 0, 0.15);\n",
              "      filter: drop-shadow(0px 1px 2px rgba(0, 0, 0, 0.3));\n",
              "      fill: #FFFFFF;\n",
              "    }\n",
              "  </style>\n",
              "\n",
              "    <script>\n",
              "      const buttonEl =\n",
              "        document.querySelector('#df-750a59ef-39a9-4ac6-82be-8c8ffd208181 button.colab-df-convert');\n",
              "      buttonEl.style.display =\n",
              "        google.colab.kernel.accessAllowed ? 'block' : 'none';\n",
              "\n",
              "      async function convertToInteractive(key) {\n",
              "        const element = document.querySelector('#df-750a59ef-39a9-4ac6-82be-8c8ffd208181');\n",
              "        const dataTable =\n",
              "          await google.colab.kernel.invokeFunction('convertToInteractive',\n",
              "                                                    [key], {});\n",
              "        if (!dataTable) return;\n",
              "\n",
              "        const docLinkHtml = 'Like what you see? Visit the ' +\n",
              "          '<a target=\"_blank\" href=https://colab.research.google.com/notebooks/data_table.ipynb>data table notebook</a>'\n",
              "          + ' to learn more about interactive tables.';\n",
              "        element.innerHTML = '';\n",
              "        dataTable['output_type'] = 'display_data';\n",
              "        await google.colab.output.renderOutput(dataTable, element);\n",
              "        const docLink = document.createElement('div');\n",
              "        docLink.innerHTML = docLinkHtml;\n",
              "        element.appendChild(docLink);\n",
              "      }\n",
              "    </script>\n",
              "  </div>\n",
              "\n",
              "\n",
              "<div id=\"df-38bffc2c-75a5-48bb-aa83-98a9fa72d48c\">\n",
              "  <button class=\"colab-df-quickchart\" onclick=\"quickchart('df-38bffc2c-75a5-48bb-aa83-98a9fa72d48c')\"\n",
              "            title=\"Suggest charts\"\n",
              "            style=\"display:none;\">\n",
              "\n",
              "<svg xmlns=\"http://www.w3.org/2000/svg\" height=\"24px\"viewBox=\"0 0 24 24\"\n",
              "     width=\"24px\">\n",
              "    <g>\n",
              "        <path d=\"M19 3H5c-1.1 0-2 .9-2 2v14c0 1.1.9 2 2 2h14c1.1 0 2-.9 2-2V5c0-1.1-.9-2-2-2zM9 17H7v-7h2v7zm4 0h-2V7h2v10zm4 0h-2v-4h2v4z\"/>\n",
              "    </g>\n",
              "</svg>\n",
              "  </button>\n",
              "\n",
              "<style>\n",
              "  .colab-df-quickchart {\n",
              "      --bg-color: #E8F0FE;\n",
              "      --fill-color: #1967D2;\n",
              "      --hover-bg-color: #E2EBFA;\n",
              "      --hover-fill-color: #174EA6;\n",
              "      --disabled-fill-color: #AAA;\n",
              "      --disabled-bg-color: #DDD;\n",
              "  }\n",
              "\n",
              "  [theme=dark] .colab-df-quickchart {\n",
              "      --bg-color: #3B4455;\n",
              "      --fill-color: #D2E3FC;\n",
              "      --hover-bg-color: #434B5C;\n",
              "      --hover-fill-color: #FFFFFF;\n",
              "      --disabled-bg-color: #3B4455;\n",
              "      --disabled-fill-color: #666;\n",
              "  }\n",
              "\n",
              "  .colab-df-quickchart {\n",
              "    background-color: var(--bg-color);\n",
              "    border: none;\n",
              "    border-radius: 50%;\n",
              "    cursor: pointer;\n",
              "    display: none;\n",
              "    fill: var(--fill-color);\n",
              "    height: 32px;\n",
              "    padding: 0;\n",
              "    width: 32px;\n",
              "  }\n",
              "\n",
              "  .colab-df-quickchart:hover {\n",
              "    background-color: var(--hover-bg-color);\n",
              "    box-shadow: 0 1px 2px rgba(60, 64, 67, 0.3), 0 1px 3px 1px rgba(60, 64, 67, 0.15);\n",
              "    fill: var(--button-hover-fill-color);\n",
              "  }\n",
              "\n",
              "  .colab-df-quickchart-complete:disabled,\n",
              "  .colab-df-quickchart-complete:disabled:hover {\n",
              "    background-color: var(--disabled-bg-color);\n",
              "    fill: var(--disabled-fill-color);\n",
              "    box-shadow: none;\n",
              "  }\n",
              "\n",
              "  .colab-df-spinner {\n",
              "    border: 2px solid var(--fill-color);\n",
              "    border-color: transparent;\n",
              "    border-bottom-color: var(--fill-color);\n",
              "    animation:\n",
              "      spin 1s steps(1) infinite;\n",
              "  }\n",
              "\n",
              "  @keyframes spin {\n",
              "    0% {\n",
              "      border-color: transparent;\n",
              "      border-bottom-color: var(--fill-color);\n",
              "      border-left-color: var(--fill-color);\n",
              "    }\n",
              "    20% {\n",
              "      border-color: transparent;\n",
              "      border-left-color: var(--fill-color);\n",
              "      border-top-color: var(--fill-color);\n",
              "    }\n",
              "    30% {\n",
              "      border-color: transparent;\n",
              "      border-left-color: var(--fill-color);\n",
              "      border-top-color: var(--fill-color);\n",
              "      border-right-color: var(--fill-color);\n",
              "    }\n",
              "    40% {\n",
              "      border-color: transparent;\n",
              "      border-right-color: var(--fill-color);\n",
              "      border-top-color: var(--fill-color);\n",
              "    }\n",
              "    60% {\n",
              "      border-color: transparent;\n",
              "      border-right-color: var(--fill-color);\n",
              "    }\n",
              "    80% {\n",
              "      border-color: transparent;\n",
              "      border-right-color: var(--fill-color);\n",
              "      border-bottom-color: var(--fill-color);\n",
              "    }\n",
              "    90% {\n",
              "      border-color: transparent;\n",
              "      border-bottom-color: var(--fill-color);\n",
              "    }\n",
              "  }\n",
              "</style>\n",
              "\n",
              "  <script>\n",
              "    async function quickchart(key) {\n",
              "      const quickchartButtonEl =\n",
              "        document.querySelector('#' + key + ' button');\n",
              "      quickchartButtonEl.disabled = true;  // To prevent multiple clicks.\n",
              "      quickchartButtonEl.classList.add('colab-df-spinner');\n",
              "      try {\n",
              "        const charts = await google.colab.kernel.invokeFunction(\n",
              "            'suggestCharts', [key], {});\n",
              "      } catch (error) {\n",
              "        console.error('Error during call to suggestCharts:', error);\n",
              "      }\n",
              "      quickchartButtonEl.classList.remove('colab-df-spinner');\n",
              "      quickchartButtonEl.classList.add('colab-df-quickchart-complete');\n",
              "    }\n",
              "    (() => {\n",
              "      let quickchartButtonEl =\n",
              "        document.querySelector('#df-38bffc2c-75a5-48bb-aa83-98a9fa72d48c button');\n",
              "      quickchartButtonEl.style.display =\n",
              "        google.colab.kernel.accessAllowed ? 'block' : 'none';\n",
              "    })();\n",
              "  </script>\n",
              "</div>\n",
              "    </div>\n",
              "  </div>\n"
            ]
          },
          "metadata": {},
          "execution_count": 25
        }
      ]
    },
    {
      "cell_type": "code",
      "source": [
        "## Generate dictionary where key is image_name and value is list of all bboxes inforamtion\n",
        "img_dict = defaultdict(list)\n",
        "\n",
        "for idx in tqdm(range(len(labels_df))):\n",
        "    sample_label_list = []\n",
        "    img_name = labels_df.loc[idx, 'img_name']\n",
        "    xmin = labels_df.loc[idx, 'xmin']\n",
        "    ymin = labels_df.loc[idx, 'ymin']\n",
        "    xmax = labels_df.loc[idx, 'xmax']\n",
        "    ymax = labels_df.loc[idx, 'ymax']\n",
        "    class_num = labels_df.loc[idx, 'class']\n",
        "    W, H = int(labels_df.loc[idx, 'width']), int(labels_df.loc[idx, 'height'])\n",
        "\n",
        "    voc_bbox = (int(xmin), int(ymin) ,int(xmax), int(ymax))\n",
        "\n",
        "    x_center, y_center, w, h = pbx.convert_bbox(voc_bbox, from_type=\"voc\", to_type=\"yolo\", image_size=(W,H))\n",
        "\n",
        "    sample_label_list.append(str(class_num))\n",
        "    sample_label_list.append(str(x_center))\n",
        "    sample_label_list.append(str(y_center))\n",
        "    sample_label_list.append(str(w))\n",
        "    sample_label_list.append(str(h))\n",
        "    line = ' '.join(sample_label_list)\n",
        "\n",
        "    img_dict[img_name].append(line)"
      ],
      "metadata": {
        "execution": {
          "iopub.status.busy": "2023-07-26T21:08:17.385179Z",
          "iopub.execute_input": "2023-07-26T21:08:17.385548Z",
          "iopub.status.idle": "2023-07-26T21:08:17.675194Z",
          "shell.execute_reply.started": "2023-07-26T21:08:17.38546Z",
          "shell.execute_reply": "2023-07-26T21:08:17.674181Z"
        },
        "trusted": true,
        "id": "YZNCHSxoKZOJ",
        "colab": {
          "base_uri": "https://localhost:8080/"
        },
        "outputId": "1e411457-6801-42dd-8a44-92061352c10a"
      },
      "execution_count": 26,
      "outputs": [
        {
          "output_type": "stream",
          "name": "stderr",
          "text": [
            "100%|██████████| 1244/1244 [00:00<00:00, 2578.39it/s]\n"
          ]
        }
      ]
    },
    {
      "cell_type": "code",
      "source": [
        "# make labels dir in data folder of yolov5\n",
        "labels_dir = f'{output_path}/data/labels'\n",
        "if os.path.exists(labels_dir):\n",
        "    shutil.rmtree(labels_dir)\n",
        "os.mkdir(labels_dir)"
      ],
      "metadata": {
        "execution": {
          "iopub.status.busy": "2023-07-26T21:08:17.676569Z",
          "iopub.execute_input": "2023-07-26T21:08:17.67692Z",
          "iopub.status.idle": "2023-07-26T21:08:17.68259Z",
          "shell.execute_reply.started": "2023-07-26T21:08:17.676888Z",
          "shell.execute_reply": "2023-07-26T21:08:17.681676Z"
        },
        "trusted": true,
        "id": "8qHr1gn9KZOK"
      },
      "execution_count": 27,
      "outputs": []
    },
    {
      "cell_type": "code",
      "source": [
        "## Generate .txt file for each image\n",
        "for img_name, lines in img_dict.items():\n",
        "    img_name = img_name.split('.')[0]\n",
        "    with open(f'{labels_dir}/{img_name}.txt', 'w') as f:\n",
        "        for line in lines:\n",
        "            f.write(line)\n",
        "            f.write('\\n')"
      ],
      "metadata": {
        "execution": {
          "iopub.status.busy": "2023-07-26T21:08:19.559204Z",
          "iopub.execute_input": "2023-07-26T21:08:19.559643Z",
          "iopub.status.idle": "2023-07-26T21:08:19.626288Z",
          "shell.execute_reply.started": "2023-07-26T21:08:19.559608Z",
          "shell.execute_reply": "2023-07-26T21:08:19.625326Z"
        },
        "trusted": true,
        "id": "SFV_UYQOKZOK"
      },
      "execution_count": 28,
      "outputs": []
    },
    {
      "cell_type": "code",
      "source": [
        "import os\n",
        "import shutil\n",
        "from random import shuffle"
      ],
      "metadata": {
        "execution": {
          "iopub.status.busy": "2023-07-26T21:08:19.929956Z",
          "iopub.execute_input": "2023-07-26T21:08:19.931177Z",
          "iopub.status.idle": "2023-07-26T21:08:19.935981Z",
          "shell.execute_reply.started": "2023-07-26T21:08:19.931136Z",
          "shell.execute_reply": "2023-07-26T21:08:19.934944Z"
        },
        "trusted": true,
        "id": "cAfNXK1bKZOK"
      },
      "execution_count": 29,
      "outputs": []
    },
    {
      "cell_type": "code",
      "source": [
        "images_path = input_path + '/images'\n",
        "labels_path = labels_dir   ## directory having labels in .txt format"
      ],
      "metadata": {
        "execution": {
          "iopub.status.busy": "2023-07-26T21:08:20.255634Z",
          "iopub.execute_input": "2023-07-26T21:08:20.256631Z",
          "iopub.status.idle": "2023-07-26T21:08:20.263897Z",
          "shell.execute_reply.started": "2023-07-26T21:08:20.256595Z",
          "shell.execute_reply": "2023-07-26T21:08:20.262703Z"
        },
        "trusted": true,
        "id": "yrWdX6juKZOL"
      },
      "execution_count": 30,
      "outputs": []
    },
    {
      "cell_type": "code",
      "source": [
        "# create train , val folders in data directory of yolov5\n",
        "train_dir = output_path + '/data/train'\n",
        "val_dir = output_path + '/data/val'\n",
        "\n",
        "if os.path.exists(train_dir):\n",
        "    shutil.rmtree(train_dir)\n",
        "\n",
        "if os.path.exists(val_dir):\n",
        "    shutil.rmtree(val_dir)\n",
        "\n",
        "os.mkdir(train_dir)\n",
        "os.mkdir(val_dir)\n",
        "\n",
        "# train, val each containing images and labels folders\n",
        "os.mkdir(train_dir + '/images')\n",
        "os.mkdir(train_dir + '/labels')\n",
        "os.mkdir(val_dir + '/images')\n",
        "os.mkdir(val_dir + '/labels')"
      ],
      "metadata": {
        "execution": {
          "iopub.status.busy": "2023-07-26T21:08:20.625211Z",
          "iopub.execute_input": "2023-07-26T21:08:20.625526Z",
          "iopub.status.idle": "2023-07-26T21:08:20.632438Z",
          "shell.execute_reply.started": "2023-07-26T21:08:20.625498Z",
          "shell.execute_reply": "2023-07-26T21:08:20.63137Z"
        },
        "trusted": true,
        "id": "tonWWTIHKZOL"
      },
      "execution_count": 31,
      "outputs": []
    },
    {
      "cell_type": "code",
      "source": [
        "# Shuffle image file names before splitting into train and val data\n",
        "files = os.listdir(images_path)\n",
        "shuffle(files)"
      ],
      "metadata": {
        "execution": {
          "iopub.status.busy": "2023-07-26T21:08:21.087253Z",
          "iopub.execute_input": "2023-07-26T21:08:21.087917Z",
          "iopub.status.idle": "2023-07-26T21:08:21.09489Z",
          "shell.execute_reply.started": "2023-07-26T21:08:21.087877Z",
          "shell.execute_reply": "2023-07-26T21:08:21.093969Z"
        },
        "trusted": true,
        "id": "caJLprBHKZOL"
      },
      "execution_count": 32,
      "outputs": []
    },
    {
      "cell_type": "code",
      "source": [
        "def split(files, ratio):\n",
        "    elements = len(files)\n",
        "    middle = int(elements * ratio)\n",
        "    return [files[:middle], files[middle:]]\n",
        "\n",
        "def copy_files(images_path, labels_path, destination_path, files):\n",
        "\n",
        "    for file_name in files:\n",
        "        file_name = file_name.split('.')[0]\n",
        "\n",
        "        src = images_path + f'/{file_name}.png'\n",
        "        dst = destination_path + '/images'\n",
        "        shutil.copy(src, dst)\n",
        "\n",
        "        src = labels_path + f'/{file_name}.txt'\n",
        "        dst = destination_path + '/labels'\n",
        "        shutil.copy(src, dst)"
      ],
      "metadata": {
        "execution": {
          "iopub.status.busy": "2023-07-26T21:08:21.445307Z",
          "iopub.execute_input": "2023-07-26T21:08:21.44566Z",
          "iopub.status.idle": "2023-07-26T21:08:21.453128Z",
          "shell.execute_reply.started": "2023-07-26T21:08:21.445628Z",
          "shell.execute_reply": "2023-07-26T21:08:21.452076Z"
        },
        "trusted": true,
        "id": "uA9SFtv8KZOL"
      },
      "execution_count": 33,
      "outputs": []
    },
    {
      "cell_type": "code",
      "source": [
        "images_path, labels_path, train_dir"
      ],
      "metadata": {
        "execution": {
          "iopub.status.busy": "2023-07-26T21:08:21.823437Z",
          "iopub.execute_input": "2023-07-26T21:08:21.824093Z",
          "iopub.status.idle": "2023-07-26T21:08:21.830316Z",
          "shell.execute_reply.started": "2023-07-26T21:08:21.82406Z",
          "shell.execute_reply": "2023-07-26T21:08:21.829349Z"
        },
        "trusted": true,
        "id": "5VZ_dKuiKZOL",
        "colab": {
          "base_uri": "https://localhost:8080/"
        },
        "outputId": "74b24319-96ff-4899-dcab-f44e1e5941b8"
      },
      "execution_count": 34,
      "outputs": [
        {
          "output_type": "execute_result",
          "data": {
            "text/plain": [
              "('kaggle/input//images',\n",
              " 'kaggle/working/yolov5/data/labels',\n",
              " 'kaggle/working/yolov5/data/train')"
            ]
          },
          "metadata": {},
          "execution_count": 34
        }
      ]
    },
    {
      "cell_type": "code",
      "source": [
        "# Split and copy files in train and val folder\n",
        "train_ratio = 0.75\n",
        "train_files, val_files = split(files, train_ratio)\n",
        "\n",
        "root = 'data/traffic_sign_data'\n",
        "\n",
        "copy_files(images_path, labels_path, train_dir, train_files)\n",
        "copy_files(images_path, labels_path, val_dir, val_files)"
      ],
      "metadata": {
        "execution": {
          "iopub.status.busy": "2023-07-26T21:08:22.288839Z",
          "iopub.execute_input": "2023-07-26T21:08:22.289176Z",
          "iopub.status.idle": "2023-07-26T21:08:28.130569Z",
          "shell.execute_reply.started": "2023-07-26T21:08:22.289147Z",
          "shell.execute_reply": "2023-07-26T21:08:28.129554Z"
        },
        "trusted": true,
        "id": "b735gCuzKZOL"
      },
      "execution_count": 35,
      "outputs": []
    },
    {
      "cell_type": "code",
      "source": [
        "assert (len(os.listdir(train_dir + '/images')) + len(os.listdir(val_dir + '/images')) == len(os.listdir(images_path)))"
      ],
      "metadata": {
        "execution": {
          "iopub.status.busy": "2023-07-26T21:08:28.132319Z",
          "iopub.execute_input": "2023-07-26T21:08:28.134348Z",
          "iopub.status.idle": "2023-07-26T21:08:28.141804Z",
          "shell.execute_reply.started": "2023-07-26T21:08:28.134319Z",
          "shell.execute_reply": "2023-07-26T21:08:28.140715Z"
        },
        "trusted": true,
        "id": "BOdbB6gpKZOM"
      },
      "execution_count": 36,
      "outputs": []
    },
    {
      "cell_type": "code",
      "source": [
        "with open(f'{output_path}/data/sign_data.yaml', 'w') as f:\n",
        "    f.write('train: ../data/train/images\\n')\n",
        "    f.write('val: ../data/val/images\\n')\n",
        "    f.write('nc: 4\\n')\n",
        "    f.write(f\"names: {classes}\")"
      ],
      "metadata": {
        "execution": {
          "iopub.status.busy": "2023-07-26T21:08:28.143717Z",
          "iopub.execute_input": "2023-07-26T21:08:28.144076Z",
          "iopub.status.idle": "2023-07-26T21:08:28.151807Z",
          "shell.execute_reply.started": "2023-07-26T21:08:28.144045Z",
          "shell.execute_reply": "2023-07-26T21:08:28.150961Z"
        },
        "trusted": true,
        "id": "LBn2WVoUKZOM"
      },
      "execution_count": 37,
      "outputs": []
    },
    {
      "cell_type": "code",
      "source": [
        "epochs = 20\n",
        "!python /content/kaggle/working/yolov5/train.py --img 640 --batch 16 --epochs {epochs} --data sign_data.yaml --weights yolov5s.pt"
      ],
      "metadata": {
        "execution": {
          "iopub.status.busy": "2023-07-26T21:08:33.111687Z",
          "iopub.execute_input": "2023-07-26T21:08:33.11235Z",
          "iopub.status.idle": "2023-07-26T21:21:31.990376Z",
          "shell.execute_reply.started": "2023-07-26T21:08:33.112296Z",
          "shell.execute_reply": "2023-07-26T21:21:31.989208Z"
        },
        "trusted": true,
        "id": "kCGKVglPKZOM",
        "colab": {
          "base_uri": "https://localhost:8080/"
        },
        "outputId": "1aa44ec4-e5aa-4ff0-a124-b7b253141131"
      },
      "execution_count": 38,
      "outputs": [
        {
          "output_type": "stream",
          "name": "stdout",
          "text": [
            "2023-11-23 12:46:52.746728: E tensorflow/compiler/xla/stream_executor/cuda/cuda_dnn.cc:9342] Unable to register cuDNN factory: Attempting to register factory for plugin cuDNN when one has already been registered\n",
            "2023-11-23 12:46:52.746783: E tensorflow/compiler/xla/stream_executor/cuda/cuda_fft.cc:609] Unable to register cuFFT factory: Attempting to register factory for plugin cuFFT when one has already been registered\n",
            "2023-11-23 12:46:52.746827: E tensorflow/compiler/xla/stream_executor/cuda/cuda_blas.cc:1518] Unable to register cuBLAS factory: Attempting to register factory for plugin cuBLAS when one has already been registered\n",
            "\u001b[34m\u001b[1mtrain: \u001b[0mweights=yolov5s.pt, cfg=, data=sign_data.yaml, hyp=kaggle/working/yolov5/data/hyps/hyp.scratch-low.yaml, epochs=20, batch_size=16, imgsz=640, rect=False, resume=False, nosave=False, noval=False, noautoanchor=False, noplots=False, evolve=None, bucket=, cache=None, image_weights=False, device=, multi_scale=False, single_cls=False, optimizer=SGD, sync_bn=False, workers=8, project=kaggle/working/yolov5/runs/train, name=exp, exist_ok=False, quad=False, cos_lr=False, label_smoothing=0.0, patience=100, freeze=[0], save_period=-1, seed=0, local_rank=-1, entity=None, upload_dataset=False, bbox_interval=-1, artifact_alias=latest\n",
            "\u001b[34m\u001b[1mgithub: \u001b[0mup to date with https://github.com/ultralytics/yolov5 ✅\n",
            "YOLOv5 🚀 v7.0-247-g3f02fde Python-3.10.12 torch-2.1.0+cu118 CUDA:0 (Tesla T4, 15102MiB)\n",
            "\n",
            "\u001b[34m\u001b[1mhyperparameters: \u001b[0mlr0=0.01, lrf=0.01, momentum=0.937, weight_decay=0.0005, warmup_epochs=3.0, warmup_momentum=0.8, warmup_bias_lr=0.1, box=0.05, cls=0.5, cls_pw=1.0, obj=1.0, obj_pw=1.0, iou_t=0.2, anchor_t=4.0, fl_gamma=0.0, hsv_h=0.015, hsv_s=0.7, hsv_v=0.4, degrees=0.0, translate=0.1, scale=0.5, shear=0.0, perspective=0.0, flipud=0.0, fliplr=0.5, mosaic=1.0, mixup=0.0, copy_paste=0.0\n",
            "\u001b[34m\u001b[1mComet: \u001b[0mrun 'pip install comet_ml' to automatically track and visualize YOLOv5 🚀 runs in Comet\n",
            "\u001b[34m\u001b[1mTensorBoard: \u001b[0mStart with 'tensorboard --logdir kaggle/working/yolov5/runs/train', view at http://localhost:6006/\n",
            "Downloading https://ultralytics.com/assets/Arial.ttf to /root/.config/Ultralytics/Arial.ttf...\n",
            "100% 755k/755k [00:00<00:00, 38.1MB/s]\n",
            "Downloading https://github.com/ultralytics/yolov5/releases/download/v7.0/yolov5s.pt to yolov5s.pt...\n",
            "100% 14.1M/14.1M [00:00<00:00, 52.3MB/s]\n",
            "\n",
            "Overriding model.yaml nc=80 with nc=4\n",
            "\n",
            "                 from  n    params  module                                  arguments                     \n",
            "  0                -1  1      3520  models.common.Conv                      [3, 32, 6, 2, 2]              \n",
            "  1                -1  1     18560  models.common.Conv                      [32, 64, 3, 2]                \n",
            "  2                -1  1     18816  models.common.C3                        [64, 64, 1]                   \n",
            "  3                -1  1     73984  models.common.Conv                      [64, 128, 3, 2]               \n",
            "  4                -1  2    115712  models.common.C3                        [128, 128, 2]                 \n",
            "  5                -1  1    295424  models.common.Conv                      [128, 256, 3, 2]              \n",
            "  6                -1  3    625152  models.common.C3                        [256, 256, 3]                 \n",
            "  7                -1  1   1180672  models.common.Conv                      [256, 512, 3, 2]              \n",
            "  8                -1  1   1182720  models.common.C3                        [512, 512, 1]                 \n",
            "  9                -1  1    656896  models.common.SPPF                      [512, 512, 5]                 \n",
            " 10                -1  1    131584  models.common.Conv                      [512, 256, 1, 1]              \n",
            " 11                -1  1         0  torch.nn.modules.upsampling.Upsample    [None, 2, 'nearest']          \n",
            " 12           [-1, 6]  1         0  models.common.Concat                    [1]                           \n",
            " 13                -1  1    361984  models.common.C3                        [512, 256, 1, False]          \n",
            " 14                -1  1     33024  models.common.Conv                      [256, 128, 1, 1]              \n",
            " 15                -1  1         0  torch.nn.modules.upsampling.Upsample    [None, 2, 'nearest']          \n",
            " 16           [-1, 4]  1         0  models.common.Concat                    [1]                           \n",
            " 17                -1  1     90880  models.common.C3                        [256, 128, 1, False]          \n",
            " 18                -1  1    147712  models.common.Conv                      [128, 128, 3, 2]              \n",
            " 19          [-1, 14]  1         0  models.common.Concat                    [1]                           \n",
            " 20                -1  1    296448  models.common.C3                        [256, 256, 1, False]          \n",
            " 21                -1  1    590336  models.common.Conv                      [256, 256, 3, 2]              \n",
            " 22          [-1, 10]  1         0  models.common.Concat                    [1]                           \n",
            " 23                -1  1   1182720  models.common.C3                        [512, 512, 1, False]          \n",
            " 24      [17, 20, 23]  1     24273  models.yolo.Detect                      [4, [[10, 13, 16, 30, 33, 23], [30, 61, 62, 45, 59, 119], [116, 90, 156, 198, 373, 326]], [128, 256, 512]]\n",
            "Model summary: 214 layers, 7030417 parameters, 7030417 gradients, 16.0 GFLOPs\n",
            "\n",
            "Transferred 343/349 items from yolov5s.pt\n",
            "\u001b[34m\u001b[1mAMP: \u001b[0mchecks passed ✅\n",
            "\u001b[34m\u001b[1moptimizer:\u001b[0m SGD(lr=0.01) with parameter groups 57 weight(decay=0.0), 60 weight(decay=0.0005), 60 bias\n",
            "\u001b[34m\u001b[1malbumentations: \u001b[0mBlur(p=0.01, blur_limit=(3, 7)), MedianBlur(p=0.01, blur_limit=(3, 7)), ToGray(p=0.01), CLAHE(p=0.01, clip_limit=(1, 4.0), tile_grid_size=(8, 8))\n",
            "\u001b[34m\u001b[1mtrain: \u001b[0mScanning /content/kaggle/working/yolov5/data/train/labels... 657 images, 0 backgrounds, 0 corrupt: 100% 657/657 [00:01<00:00, 577.93it/s]\n",
            "\u001b[34m\u001b[1mtrain: \u001b[0mNew cache created: /content/kaggle/working/yolov5/data/train/labels.cache\n",
            "\u001b[34m\u001b[1mval: \u001b[0mScanning /content/kaggle/working/yolov5/data/val/labels... 220 images, 0 backgrounds, 0 corrupt: 100% 220/220 [00:01<00:00, 219.54it/s]\n",
            "\u001b[34m\u001b[1mval: \u001b[0mNew cache created: /content/kaggle/working/yolov5/data/val/labels.cache\n",
            "\n",
            "\u001b[34m\u001b[1mAutoAnchor: \u001b[0m5.57 anchors/target, 1.000 Best Possible Recall (BPR). Current anchors are a good fit to dataset ✅\n",
            "Plotting labels to kaggle/working/yolov5/runs/train/exp/labels.jpg... \n",
            "Image sizes 640 train, 640 val\n",
            "Using 2 dataloader workers\n",
            "Logging results to \u001b[1mkaggle/working/yolov5/runs/train/exp\u001b[0m\n",
            "Starting training for 20 epochs...\n",
            "\n",
            "      Epoch    GPU_mem   box_loss   obj_loss   cls_loss  Instances       Size\n",
            "       0/19       3.5G    0.09625    0.03213    0.03539          1        640: 100% 42/42 [00:32<00:00,  1.28it/s]\n",
            "                 Class     Images  Instances          P          R      mAP50   mAP50-95: 100% 7/7 [00:06<00:00,  1.05it/s]\n",
            "                   all        220        303      0.283      0.196     0.0763     0.0256\n",
            "\n",
            "      Epoch    GPU_mem   box_loss   obj_loss   cls_loss  Instances       Size\n",
            "       1/19      4.33G    0.07001    0.02671    0.02309          2        640: 100% 42/42 [00:27<00:00,  1.53it/s]\n",
            "                 Class     Images  Instances          P          R      mAP50   mAP50-95: 100% 7/7 [00:06<00:00,  1.05it/s]\n",
            "                   all        220        303      0.165      0.382      0.188     0.0584\n",
            "\n",
            "      Epoch    GPU_mem   box_loss   obj_loss   cls_loss  Instances       Size\n",
            "       2/19      4.33G    0.06687    0.02143    0.01563          2        640: 100% 42/42 [00:26<00:00,  1.58it/s]\n",
            "                 Class     Images  Instances          P          R      mAP50   mAP50-95: 100% 7/7 [00:06<00:00,  1.04it/s]\n",
            "                   all        220        303      0.479      0.419      0.246      0.105\n",
            "\n",
            "      Epoch    GPU_mem   box_loss   obj_loss   cls_loss  Instances       Size\n",
            "       3/19      4.33G    0.05945    0.01892    0.01169          2        640: 100% 42/42 [00:26<00:00,  1.58it/s]\n",
            "                 Class     Images  Instances          P          R      mAP50   mAP50-95: 100% 7/7 [00:06<00:00,  1.09it/s]\n",
            "                   all        220        303      0.325      0.689      0.481      0.215\n",
            "\n",
            "      Epoch    GPU_mem   box_loss   obj_loss   cls_loss  Instances       Size\n",
            "       4/19      4.33G    0.05254    0.01573    0.00813          2        640: 100% 42/42 [00:26<00:00,  1.57it/s]\n",
            "                 Class     Images  Instances          P          R      mAP50   mAP50-95: 100% 7/7 [00:05<00:00,  1.18it/s]\n",
            "                   all        220        303      0.584      0.597      0.614      0.275\n",
            "\n",
            "      Epoch    GPU_mem   box_loss   obj_loss   cls_loss  Instances       Size\n",
            "       5/19      4.33G    0.04677     0.0138   0.006327          1        640: 100% 42/42 [00:27<00:00,  1.55it/s]\n",
            "                 Class     Images  Instances          P          R      mAP50   mAP50-95: 100% 7/7 [00:05<00:00,  1.29it/s]\n",
            "                   all        220        303      0.666      0.714      0.761      0.415\n",
            "\n",
            "      Epoch    GPU_mem   box_loss   obj_loss   cls_loss  Instances       Size\n",
            "       6/19      4.33G    0.04252    0.01217   0.005291          1        640: 100% 42/42 [00:28<00:00,  1.48it/s]\n",
            "                 Class     Images  Instances          P          R      mAP50   mAP50-95: 100% 7/7 [00:04<00:00,  1.50it/s]\n",
            "                   all        220        303      0.677      0.849      0.817      0.451\n",
            "\n",
            "      Epoch    GPU_mem   box_loss   obj_loss   cls_loss  Instances       Size\n",
            "       7/19      4.33G    0.03876    0.01193    0.00454          4        640: 100% 42/42 [00:27<00:00,  1.52it/s]\n",
            "                 Class     Images  Instances          P          R      mAP50   mAP50-95: 100% 7/7 [00:06<00:00,  1.06it/s]\n",
            "                   all        220        303       0.81      0.718      0.825      0.466\n",
            "\n",
            "      Epoch    GPU_mem   box_loss   obj_loss   cls_loss  Instances       Size\n",
            "       8/19      4.33G    0.03442    0.01164   0.004568          4        640: 100% 42/42 [00:28<00:00,  1.48it/s]\n",
            "                 Class     Images  Instances          P          R      mAP50   mAP50-95: 100% 7/7 [00:03<00:00,  1.76it/s]\n",
            "                   all        220        303      0.814      0.847      0.882       0.56\n",
            "\n",
            "      Epoch    GPU_mem   box_loss   obj_loss   cls_loss  Instances       Size\n",
            "       9/19      4.33G    0.03304    0.01066   0.003653          3        640: 100% 42/42 [00:28<00:00,  1.48it/s]\n",
            "                 Class     Images  Instances          P          R      mAP50   mAP50-95: 100% 7/7 [00:04<00:00,  1.67it/s]\n",
            "                   all        220        303      0.877       0.89      0.914      0.585\n",
            "\n",
            "      Epoch    GPU_mem   box_loss   obj_loss   cls_loss  Instances       Size\n",
            "      10/19      4.33G     0.0309    0.01178   0.003134         10        640: 100% 42/42 [00:29<00:00,  1.44it/s]\n",
            "                 Class     Images  Instances          P          R      mAP50   mAP50-95: 100% 7/7 [00:04<00:00,  1.67it/s]\n",
            "                   all        220        303      0.918      0.838      0.916      0.588\n",
            "\n",
            "      Epoch    GPU_mem   box_loss   obj_loss   cls_loss  Instances       Size\n",
            "      11/19      4.33G    0.02896    0.01007    0.00301          5        640: 100% 42/42 [00:28<00:00,  1.46it/s]\n",
            "                 Class     Images  Instances          P          R      mAP50   mAP50-95: 100% 7/7 [00:04<00:00,  1.69it/s]\n",
            "                   all        220        303      0.897      0.838      0.903      0.606\n",
            "\n",
            "      Epoch    GPU_mem   box_loss   obj_loss   cls_loss  Instances       Size\n",
            "      12/19      4.33G    0.02648   0.009978    0.00268          2        640: 100% 42/42 [00:28<00:00,  1.47it/s]\n",
            "                 Class     Images  Instances          P          R      mAP50   mAP50-95: 100% 7/7 [00:04<00:00,  1.62it/s]\n",
            "                   all        220        303       0.86      0.896      0.896      0.605\n",
            "\n",
            "      Epoch    GPU_mem   box_loss   obj_loss   cls_loss  Instances       Size\n",
            "      13/19      4.33G    0.02498   0.009401   0.002539          1        640: 100% 42/42 [00:28<00:00,  1.46it/s]\n",
            "                 Class     Images  Instances          P          R      mAP50   mAP50-95: 100% 7/7 [00:04<00:00,  1.66it/s]\n",
            "                   all        220        303      0.911      0.901      0.928      0.663\n",
            "\n",
            "      Epoch    GPU_mem   box_loss   obj_loss   cls_loss  Instances       Size\n",
            "      14/19      4.33G    0.02411   0.008893    0.00237          2        640: 100% 42/42 [00:28<00:00,  1.48it/s]\n",
            "                 Class     Images  Instances          P          R      mAP50   mAP50-95: 100% 7/7 [00:04<00:00,  1.68it/s]\n",
            "                   all        220        303      0.894      0.924      0.931      0.695\n",
            "\n",
            "      Epoch    GPU_mem   box_loss   obj_loss   cls_loss  Instances       Size\n",
            "      15/19      4.33G    0.02219   0.008753   0.002202          3        640: 100% 42/42 [00:28<00:00,  1.48it/s]\n",
            "                 Class     Images  Instances          P          R      mAP50   mAP50-95: 100% 7/7 [00:04<00:00,  1.56it/s]\n",
            "                   all        220        303      0.928      0.917      0.941      0.733\n",
            "\n",
            "      Epoch    GPU_mem   box_loss   obj_loss   cls_loss  Instances       Size\n",
            "      16/19      4.33G    0.02102    0.00891   0.001797          6        640: 100% 42/42 [00:27<00:00,  1.52it/s]\n",
            "                 Class     Images  Instances          P          R      mAP50   mAP50-95: 100% 7/7 [00:04<00:00,  1.52it/s]\n",
            "                   all        220        303      0.942      0.919      0.941      0.732\n",
            "\n",
            "      Epoch    GPU_mem   box_loss   obj_loss   cls_loss  Instances       Size\n",
            "      17/19      4.33G    0.01935   0.008226   0.001621          0        640: 100% 42/42 [00:27<00:00,  1.54it/s]\n",
            "                 Class     Images  Instances          P          R      mAP50   mAP50-95: 100% 7/7 [00:04<00:00,  1.47it/s]\n",
            "                   all        220        303      0.946      0.921      0.939      0.738\n",
            "\n",
            "      Epoch    GPU_mem   box_loss   obj_loss   cls_loss  Instances       Size\n",
            "      18/19      4.33G    0.01894   0.008671   0.001574          6        640: 100% 42/42 [00:27<00:00,  1.55it/s]\n",
            "                 Class     Images  Instances          P          R      mAP50   mAP50-95: 100% 7/7 [00:05<00:00,  1.31it/s]\n",
            "                   all        220        303       0.93      0.925      0.935      0.754\n",
            "\n",
            "      Epoch    GPU_mem   box_loss   obj_loss   cls_loss  Instances       Size\n",
            "      19/19      4.33G    0.01776   0.007952   0.001461          4        640: 100% 42/42 [00:25<00:00,  1.62it/s]\n",
            "                 Class     Images  Instances          P          R      mAP50   mAP50-95: 100% 7/7 [00:06<00:00,  1.15it/s]\n",
            "                   all        220        303      0.926       0.92      0.941       0.76\n",
            "\n",
            "20 epochs completed in 0.189 hours.\n",
            "Optimizer stripped from kaggle/working/yolov5/runs/train/exp/weights/last.pt, 14.4MB\n",
            "Optimizer stripped from kaggle/working/yolov5/runs/train/exp/weights/best.pt, 14.4MB\n",
            "\n",
            "Validating kaggle/working/yolov5/runs/train/exp/weights/best.pt...\n",
            "Fusing layers... \n",
            "Model summary: 157 layers, 7020913 parameters, 0 gradients, 15.8 GFLOPs\n",
            "                 Class     Images  Instances          P          R      mAP50   mAP50-95: 100% 7/7 [00:04<00:00,  1.51it/s]\n",
            "                   all        220        303      0.923       0.92      0.941       0.76\n",
            "            speedlimit        220        199       0.99      0.998      0.991      0.873\n",
            "          trafficlight        220         39       0.86      0.821      0.831      0.565\n",
            "             crosswalk        220         40      0.917        0.9      0.955      0.754\n",
            "                  stop        220         25      0.923       0.96      0.988      0.849\n",
            "Results saved to \u001b[1mkaggle/working/yolov5/runs/train/exp\u001b[0m\n"
          ]
        }
      ]
    },
    {
      "cell_type": "code",
      "source": [
        "# results stored in runs/train\n",
        "# get the last stored result\n",
        "exp = sorted(os.listdir(output_path + '/runs/train'))[-1]\n",
        "exp_path = output_path + '/runs/train/' + exp"
      ],
      "metadata": {
        "execution": {
          "iopub.status.busy": "2023-07-26T21:22:16.812448Z",
          "iopub.execute_input": "2023-07-26T21:22:16.81286Z",
          "iopub.status.idle": "2023-07-26T21:22:16.819087Z",
          "shell.execute_reply.started": "2023-07-26T21:22:16.812824Z",
          "shell.execute_reply": "2023-07-26T21:22:16.818192Z"
        },
        "trusted": true,
        "id": "B0rRxJBlKZOM"
      },
      "execution_count": 39,
      "outputs": []
    },
    {
      "cell_type": "code",
      "source": [
        "os.listdir(exp_path)"
      ],
      "metadata": {
        "execution": {
          "iopub.status.busy": "2023-07-26T21:22:27.597277Z",
          "iopub.execute_input": "2023-07-26T21:22:27.597652Z",
          "iopub.status.idle": "2023-07-26T21:22:27.605623Z",
          "shell.execute_reply.started": "2023-07-26T21:22:27.59762Z",
          "shell.execute_reply": "2023-07-26T21:22:27.604673Z"
        },
        "trusted": true,
        "id": "5lai5fNbKZOM",
        "colab": {
          "base_uri": "https://localhost:8080/"
        },
        "outputId": "7a116bb0-1170-4eee-a4e4-1f2e272287cf"
      },
      "execution_count": 40,
      "outputs": [
        {
          "output_type": "execute_result",
          "data": {
            "text/plain": [
              "['hyp.yaml',\n",
              " 'PR_curve.png',\n",
              " 'val_batch2_labels.jpg',\n",
              " 'P_curve.png',\n",
              " 'F1_curve.png',\n",
              " 'val_batch1_labels.jpg',\n",
              " 'labels.jpg',\n",
              " 'train_batch2.jpg',\n",
              " 'train_batch1.jpg',\n",
              " 'confusion_matrix.png',\n",
              " 'results.csv',\n",
              " 'labels_correlogram.jpg',\n",
              " 'opt.yaml',\n",
              " 'events.out.tfevents.1700743617.8caeadb9b73d.912.0',\n",
              " 'R_curve.png',\n",
              " 'val_batch0_labels.jpg',\n",
              " 'val_batch2_pred.jpg',\n",
              " 'weights',\n",
              " 'results.png',\n",
              " 'val_batch1_pred.jpg',\n",
              " 'val_batch0_pred.jpg',\n",
              " 'train_batch0.jpg']"
            ]
          },
          "metadata": {},
          "execution_count": 40
        }
      ]
    },
    {
      "cell_type": "code",
      "source": [
        "!zip -r /content/trainexp.zip /content/kaggle/working/yolov5/runs/train"
      ],
      "metadata": {
        "id": "5-8GkrJVKZON",
        "colab": {
          "base_uri": "https://localhost:8080/"
        },
        "outputId": "43ba6427-2e16-453b-9617-965f3cc4bb1d"
      },
      "execution_count": 44,
      "outputs": [
        {
          "output_type": "stream",
          "name": "stdout",
          "text": [
            "  adding: content/kaggle/working/yolov5/runs/train/ (stored 0%)\n",
            "  adding: content/kaggle/working/yolov5/runs/train/exp/ (stored 0%)\n",
            "  adding: content/kaggle/working/yolov5/runs/train/exp/hyp.yaml (deflated 45%)\n",
            "  adding: content/kaggle/working/yolov5/runs/train/exp/PR_curve.png (deflated 18%)\n",
            "  adding: content/kaggle/working/yolov5/runs/train/exp/val_batch2_labels.jpg (deflated 8%)\n",
            "  adding: content/kaggle/working/yolov5/runs/train/exp/P_curve.png (deflated 10%)\n",
            "  adding: content/kaggle/working/yolov5/runs/train/exp/F1_curve.png (deflated 8%)\n",
            "  adding: content/kaggle/working/yolov5/runs/train/exp/val_batch1_labels.jpg (deflated 7%)\n",
            "  adding: content/kaggle/working/yolov5/runs/train/exp/labels.jpg (deflated 31%)\n",
            "  adding: content/kaggle/working/yolov5/runs/train/exp/train_batch2.jpg (deflated 4%)\n",
            "  adding: content/kaggle/working/yolov5/runs/train/exp/train_batch1.jpg (deflated 4%)\n",
            "  adding: content/kaggle/working/yolov5/runs/train/exp/confusion_matrix.png (deflated 27%)\n",
            "  adding: content/kaggle/working/yolov5/runs/train/exp/results.csv (deflated 81%)\n",
            "  adding: content/kaggle/working/yolov5/runs/train/exp/labels_correlogram.jpg (deflated 39%)\n",
            "  adding: content/kaggle/working/yolov5/runs/train/exp/opt.yaml (deflated 50%)\n",
            "  adding: content/kaggle/working/yolov5/runs/train/exp/events.out.tfevents.1700743617.8caeadb9b73d.912.0 (deflated 30%)\n",
            "  adding: content/kaggle/working/yolov5/runs/train/exp/R_curve.png (deflated 11%)\n",
            "  adding: content/kaggle/working/yolov5/runs/train/exp/val_batch0_labels.jpg (deflated 19%)\n",
            "  adding: content/kaggle/working/yolov5/runs/train/exp/val_batch2_pred.jpg (deflated 8%)\n",
            "  adding: content/kaggle/working/yolov5/runs/train/exp/weights/ (stored 0%)\n",
            "  adding: content/kaggle/working/yolov5/runs/train/exp/weights/best.pt (deflated 9%)\n",
            "  adding: content/kaggle/working/yolov5/runs/train/exp/weights/last.pt (deflated 9%)\n",
            "  adding: content/kaggle/working/yolov5/runs/train/exp/results.png (deflated 8%)\n",
            "  adding: content/kaggle/working/yolov5/runs/train/exp/val_batch1_pred.jpg (deflated 7%)\n",
            "  adding: content/kaggle/working/yolov5/runs/train/exp/val_batch0_pred.jpg (deflated 18%)\n",
            "  adding: content/kaggle/working/yolov5/runs/train/exp/train_batch0.jpg (deflated 5%)\n"
          ]
        }
      ]
    }
  ]
}