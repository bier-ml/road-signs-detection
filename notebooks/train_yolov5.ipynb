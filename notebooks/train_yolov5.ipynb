{
 "metadata": {
  "kernelspec": {
   "name": "python3",
   "language": "python",
   "display_name": "Python 3 (ipykernel)"
  },
  "language_info": {
   "pygments_lexer": "ipython3",
   "nbconvert_exporter": "python",
   "version": "3.6.4",
   "file_extension": ".py",
   "codemirror_mode": {
    "name": "ipython",
    "version": 3
   },
   "name": "python",
   "mimetype": "text/x-python"
  },
  "kaggle": {
   "accelerator": "nvidiaTeslaT4",
   "dataSources": [
    {
     "sourceId": 1181356,
     "sourceType": "datasetVersion",
     "datasetId": 671172
    }
   ],
   "dockerImageVersionId": 30527,
   "isInternetEnabled": false,
   "language": "python",
   "sourceType": "notebook",
   "isGpuEnabled": true
  },
  "colab": {
   "provenance": [],
   "gpuType": "T4"
  },
  "accelerator": "GPU"
 },
 "nbformat_minor": 0,
 "nbformat": 4,
 "cells": [
  {
   "cell_type": "code",
   "source": [
    "!pip install torch torchvision pillow pybboxes kaggle -q"
   ],
   "metadata": {
    "id": "MI5IJVhILgsZ"
   },
   "execution_count": null,
   "outputs": []
  },
  {
   "cell_type": "code",
   "execution_count": null,
   "outputs": [],
   "source": [
    "!mkdir ~ /.kaggle\n",
    "!cp kaggle.json ~ /.kaggle/\n",
    "!chmod 600 ~ /.kaggle/kaggle.json"
   ],
   "metadata": {
    "collapsed": false
   }
  },
  {
   "cell_type": "code",
   "execution_count": null,
   "outputs": [],
   "source": [
    "!kaggle datasets download -d andrewmvd/road-sign-detection\n",
    "!mkdir \"kaggle\"\n",
    "!mkdir \"kaggle/input\"\n",
    "!unzip road-sign-detection.zip -d \"kaggle/input/\""
   ],
   "metadata": {
    "collapsed": false
   }
  },
  {
   "cell_type": "code",
   "source": [
    "import numpy as np  # linear algebra\n",
    "import pandas as pd  # data processing, CSV file I/O (e.g. pd.read_csv)\n",
    "import os"
   ],
   "metadata": {
    "_uuid": "8f2839f25d086af736a60e9eeb907d3b93b6e0e5",
    "_cell_guid": "b1076dfc-b9ad-4769-8c92-a6c4dae69d19",
    "execution": {
     "iopub.status.busy": "2023-07-26T21:07:06.476372Z",
     "iopub.execute_input": "2023-07-26T21:07:06.476751Z",
     "iopub.status.idle": "2023-07-26T21:07:06.687008Z",
     "shell.execute_reply.started": "2023-07-26T21:07:06.476718Z",
     "shell.execute_reply": "2023-07-26T21:07:06.686052Z"
    },
    "trusted": true,
    "id": "rfmsIXqjKZOD"
   },
   "execution_count": null,
   "outputs": []
  },
  {
   "cell_type": "code",
   "source": [
    "!git clone https: // github.com/ultralytics/yolov5"
   ],
   "metadata": {
    "execution": {
     "iopub.status.busy": "2023-07-26T21:07:07.364184Z",
     "iopub.execute_input": "2023-07-26T21:07:07.364565Z",
     "iopub.status.idle": "2023-07-26T21:07:10.3441Z",
     "shell.execute_reply.started": "2023-07-26T21:07:07.364532Z",
     "shell.execute_reply": "2023-07-26T21:07:10.342954Z"
    },
    "trusted": true,
    "id": "mbjwPv16KZOG",
    "colab": {
     "base_uri": "https://localhost:8080/"
    },
    "outputId": "2fa4795c-b73f-4eaf-db98-792d3a89279f"
   },
   "execution_count": null,
   "outputs": []
  },
  {
   "cell_type": "code",
   "source": [
    "!mkdir \"kaggle/working\"\n",
    "!cp -r yolov5 kaggle/working/"
   ],
   "metadata": {
    "colab": {
     "base_uri": "https://localhost:8080/"
    },
    "id": "HYPfcjAzMwE5",
    "outputId": "748e21d7-b61f-4610-c717-13987722f655"
   },
   "execution_count": null,
   "outputs": []
  },
  {
   "cell_type": "code",
   "source": [
    "!pip install -r yolov5/requirements.txt -q"
   ],
   "metadata": {
    "execution": {
     "iopub.status.busy": "2023-07-26T21:07:14.998103Z",
     "iopub.execute_input": "2023-07-26T21:07:14.99887Z",
     "iopub.status.idle": "2023-07-26T21:07:41.551467Z",
     "shell.execute_reply.started": "2023-07-26T21:07:14.998833Z",
     "shell.execute_reply": "2023-07-26T21:07:41.550247Z"
    },
    "trusted": true,
    "id": "xmPlc8mvKZOG"
   },
   "execution_count": null,
   "outputs": []
  },
  {
   "cell_type": "code",
   "source": [
    "import xml.etree.ElementTree as ET\n",
    "import os\n",
    "from tqdm import tqdm\n",
    "import pandas as pd"
   ],
   "metadata": {
    "execution": {
     "iopub.status.busy": "2023-07-26T21:08:01.432044Z",
     "iopub.execute_input": "2023-07-26T21:08:01.432419Z",
     "iopub.status.idle": "2023-07-26T21:08:01.437161Z",
     "shell.execute_reply.started": "2023-07-26T21:08:01.432388Z",
     "shell.execute_reply": "2023-07-26T21:08:01.436153Z"
    },
    "trusted": true,
    "id": "lBNMJERvKZOH"
   },
   "execution_count": null,
   "outputs": []
  },
  {
   "cell_type": "code",
   "source": [
    "input_path = '../data/kaggle/'\n",
    "output_path = '../data/kaggle/result'"
   ],
   "metadata": {
    "execution": {
     "iopub.status.busy": "2023-07-26T21:08:01.680308Z",
     "iopub.execute_input": "2023-07-26T21:08:01.681046Z",
     "iopub.status.idle": "2023-07-26T21:08:01.687949Z",
     "shell.execute_reply.started": "2023-07-26T21:08:01.681003Z",
     "shell.execute_reply": "2023-07-26T21:08:01.686664Z"
    },
    "trusted": true,
    "id": "iZHiPhquKZOH"
   },
   "execution_count": null,
   "outputs": []
  },
  {
   "cell_type": "code",
   "source": [
    "annotations_path = os.path.join(input_path, 'annotations')\n",
    "annotations = os.listdir(annotations_path)"
   ],
   "metadata": {
    "execution": {
     "iopub.status.busy": "2023-07-26T21:08:01.920365Z",
     "iopub.execute_input": "2023-07-26T21:08:01.922451Z",
     "iopub.status.idle": "2023-07-26T21:08:01.928535Z",
     "shell.execute_reply.started": "2023-07-26T21:08:01.922397Z",
     "shell.execute_reply": "2023-07-26T21:08:01.927617Z"
    },
    "trusted": true,
    "id": "B8eIz431KZOH"
   },
   "execution_count": null,
   "outputs": []
  },
  {
   "cell_type": "code",
   "source": [
    "img_name_list = []\n",
    "width_list = []\n",
    "height_list = []\n",
    "label_list = []\n",
    "xmin_list = []\n",
    "ymin_list = []\n",
    "xmax_list = []\n",
    "ymax_list = []\n",
    "\n",
    "for idx in tqdm(range(len(annotations))):\n",
    "\n",
    "    tree = ET.parse(os.path.join(annotations_path, annotations[idx]))\n",
    "    root = tree.getroot()\n",
    "\n",
    "    img_name = root.find('filename').text\n",
    "\n",
    "    size = root.find('size')\n",
    "    width = size.find('width').text\n",
    "    height = size.find('height').text\n",
    "\n",
    "    for group in root.findall('object'):\n",
    "        label = group.find('name').text\n",
    "        bbox = group.find('bndbox')\n",
    "        xmin = bbox.find('xmin').text\n",
    "        ymin = bbox.find('ymin').text\n",
    "        xmax = bbox.find('xmax').text\n",
    "        ymax = bbox.find('ymax').text\n",
    "\n",
    "        img_name_list.append(img_name)\n",
    "        width_list.append(width)\n",
    "        height_list.append(height)\n",
    "        xmin_list.append(xmin)\n",
    "        ymin_list.append(ymin)\n",
    "        xmax_list.append(xmax)\n",
    "        ymax_list.append(ymax)\n",
    "        label_list.append(label)"
   ],
   "metadata": {
    "execution": {
     "iopub.status.busy": "2023-07-26T21:08:02.194246Z",
     "iopub.execute_input": "2023-07-26T21:08:02.194579Z",
     "iopub.status.idle": "2023-07-26T21:08:04.803898Z",
     "shell.execute_reply.started": "2023-07-26T21:08:02.194551Z",
     "shell.execute_reply": "2023-07-26T21:08:04.802842Z"
    },
    "trusted": true,
    "id": "nDZtlP08KZOH",
    "colab": {
     "base_uri": "https://localhost:8080/"
    },
    "outputId": "8287c291-0f1e-4993-bc3c-b6830ccd35d6"
   },
   "execution_count": null,
   "outputs": []
  },
  {
   "cell_type": "code",
   "source": [
    "labels_df = pd.DataFrame({\n",
    "    'img_name': img_name_list,\n",
    "    'width': width_list,\n",
    "    'height': height_list,\n",
    "    'xmin': xmin_list,\n",
    "    'ymin': ymin_list,\n",
    "    'xmax': xmax_list,\n",
    "    'ymax': ymax_list,\n",
    "    'label': label_list})\n",
    "labels_df.head()"
   ],
   "metadata": {
    "execution": {
     "iopub.status.busy": "2023-07-26T21:08:04.805717Z",
     "iopub.execute_input": "2023-07-26T21:08:04.806228Z",
     "iopub.status.idle": "2023-07-26T21:08:04.834788Z",
     "shell.execute_reply.started": "2023-07-26T21:08:04.806192Z",
     "shell.execute_reply": "2023-07-26T21:08:04.833752Z"
    },
    "trusted": true,
    "id": "q0YIpFlXKZOH",
    "colab": {
     "base_uri": "https://localhost:8080/",
     "height": 206
    },
    "outputId": "be2e4571-4a19-45e1-b681-1388495518c1"
   },
   "execution_count": null,
   "outputs": []
  },
  {
   "cell_type": "code",
   "source": [
    "import numpy as np\n",
    "import pandas as pd\n",
    "import os\n",
    "import pybboxes as pbx\n",
    "from collections import defaultdict\n",
    "from tqdm import tqdm\n",
    "import shutil"
   ],
   "metadata": {
    "execution": {
     "iopub.status.busy": "2023-07-26T21:08:17.328431Z",
     "iopub.execute_input": "2023-07-26T21:08:17.329101Z",
     "iopub.status.idle": "2023-07-26T21:08:17.344442Z",
     "shell.execute_reply.started": "2023-07-26T21:08:17.329066Z",
     "shell.execute_reply": "2023-07-26T21:08:17.343495Z"
    },
    "trusted": true,
    "id": "Ohj_9SMwKZOI"
   },
   "execution_count": null,
   "outputs": []
  },
  {
   "cell_type": "code",
   "source": [
    "classes = labels_df['label'].unique().tolist()\n",
    "classes"
   ],
   "metadata": {
    "execution": {
     "iopub.status.busy": "2023-07-26T21:08:17.346016Z",
     "iopub.execute_input": "2023-07-26T21:08:17.346415Z",
     "iopub.status.idle": "2023-07-26T21:08:17.357592Z",
     "shell.execute_reply.started": "2023-07-26T21:08:17.346329Z",
     "shell.execute_reply": "2023-07-26T21:08:17.356739Z"
    },
    "trusted": true,
    "id": "FmdjgLdoKZOJ",
    "colab": {
     "base_uri": "https://localhost:8080/"
    },
    "outputId": "239f494c-834b-4854-a9a2-03beb423eb9c"
   },
   "execution_count": null,
   "outputs": []
  },
  {
   "cell_type": "code",
   "source": [
    "## Add class number associated to classes\n",
    "labels_df['class'] = labels_df['label'].apply(lambda x: classes.index(x))\n",
    "labels_df.head()"
   ],
   "metadata": {
    "execution": {
     "iopub.status.busy": "2023-07-26T21:08:17.359952Z",
     "iopub.execute_input": "2023-07-26T21:08:17.360326Z",
     "iopub.status.idle": "2023-07-26T21:08:17.383812Z",
     "shell.execute_reply.started": "2023-07-26T21:08:17.360295Z",
     "shell.execute_reply": "2023-07-26T21:08:17.382917Z"
    },
    "trusted": true,
    "id": "U0Pemz45KZOJ",
    "colab": {
     "base_uri": "https://localhost:8080/",
     "height": 206
    },
    "outputId": "6bf90fed-0709-42ed-961c-9f6973fa0ad3"
   },
   "execution_count": null,
   "outputs": []
  },
  {
   "cell_type": "code",
   "source": [
    "## Generate dictionary where key is image_name and value is list of all bboxes inforamtion\n",
    "img_dict = defaultdict(list)\n",
    "\n",
    "for idx in tqdm(range(len(labels_df))):\n",
    "    sample_label_list = []\n",
    "    img_name = labels_df.loc[idx, 'img_name']\n",
    "    xmin = labels_df.loc[idx, 'xmin']\n",
    "    ymin = labels_df.loc[idx, 'ymin']\n",
    "    xmax = labels_df.loc[idx, 'xmax']\n",
    "    ymax = labels_df.loc[idx, 'ymax']\n",
    "    class_num = labels_df.loc[idx, 'class']\n",
    "    W, H = int(labels_df.loc[idx, 'width']), int(labels_df.loc[idx, 'height'])\n",
    "\n",
    "    voc_bbox = (int(xmin), int(ymin), int(xmax), int(ymax))\n",
    "\n",
    "    x_center, y_center, w, h = pbx.convert_bbox(voc_bbox, from_type=\"voc\", to_type=\"yolo\", image_size=(W, H))\n",
    "\n",
    "    sample_label_list.append(str(class_num))\n",
    "    sample_label_list.append(str(x_center))\n",
    "    sample_label_list.append(str(y_center))\n",
    "    sample_label_list.append(str(w))\n",
    "    sample_label_list.append(str(h))\n",
    "    line = ' '.join(sample_label_list)\n",
    "\n",
    "    img_dict[img_name].append(line)"
   ],
   "metadata": {
    "execution": {
     "iopub.status.busy": "2023-07-26T21:08:17.385179Z",
     "iopub.execute_input": "2023-07-26T21:08:17.385548Z",
     "iopub.status.idle": "2023-07-26T21:08:17.675194Z",
     "shell.execute_reply.started": "2023-07-26T21:08:17.38546Z",
     "shell.execute_reply": "2023-07-26T21:08:17.674181Z"
    },
    "trusted": true,
    "id": "YZNCHSxoKZOJ",
    "colab": {
     "base_uri": "https://localhost:8080/"
    },
    "outputId": "1e411457-6801-42dd-8a44-92061352c10a"
   },
   "execution_count": null,
   "outputs": []
  },
  {
   "cell_type": "code",
   "source": [
    "# make labels dir in data folder of yolov5\n",
    "labels_dir = f'{output_path}/data/labels'\n",
    "if os.path.exists(labels_dir):\n",
    "    shutil.rmtree(labels_dir)\n",
    "os.mkdir(labels_dir)"
   ],
   "metadata": {
    "execution": {
     "iopub.status.busy": "2023-07-26T21:08:17.676569Z",
     "iopub.execute_input": "2023-07-26T21:08:17.67692Z",
     "iopub.status.idle": "2023-07-26T21:08:17.68259Z",
     "shell.execute_reply.started": "2023-07-26T21:08:17.676888Z",
     "shell.execute_reply": "2023-07-26T21:08:17.681676Z"
    },
    "trusted": true,
    "id": "8qHr1gn9KZOK"
   },
   "execution_count": null,
   "outputs": []
  },
  {
   "cell_type": "code",
   "source": [
    "## Generate .txt file for each image\n",
    "for img_name, lines in img_dict.items():\n",
    "    img_name = img_name.split('.')[0]\n",
    "    with open(f'{labels_dir}/{img_name}.txt', 'w') as f:\n",
    "        for line in lines:\n",
    "            f.write(line)\n",
    "            f.write('\\n')"
   ],
   "metadata": {
    "execution": {
     "iopub.status.busy": "2023-07-26T21:08:19.559204Z",
     "iopub.execute_input": "2023-07-26T21:08:19.559643Z",
     "iopub.status.idle": "2023-07-26T21:08:19.626288Z",
     "shell.execute_reply.started": "2023-07-26T21:08:19.559608Z",
     "shell.execute_reply": "2023-07-26T21:08:19.625326Z"
    },
    "trusted": true,
    "id": "SFV_UYQOKZOK"
   },
   "execution_count": null,
   "outputs": []
  },
  {
   "cell_type": "code",
   "source": [
    "import os\n",
    "import shutil\n",
    "from random import shuffle"
   ],
   "metadata": {
    "execution": {
     "iopub.status.busy": "2023-07-26T21:08:19.929956Z",
     "iopub.execute_input": "2023-07-26T21:08:19.931177Z",
     "iopub.status.idle": "2023-07-26T21:08:19.935981Z",
     "shell.execute_reply.started": "2023-07-26T21:08:19.931136Z",
     "shell.execute_reply": "2023-07-26T21:08:19.934944Z"
    },
    "trusted": true,
    "id": "cAfNXK1bKZOK"
   },
   "execution_count": null,
   "outputs": []
  },
  {
   "cell_type": "code",
   "source": [
    "images_path = input_path + '/images'\n",
    "labels_path = labels_dir  ## directory having labels in .txt format"
   ],
   "metadata": {
    "execution": {
     "iopub.status.busy": "2023-07-26T21:08:20.255634Z",
     "iopub.execute_input": "2023-07-26T21:08:20.256631Z",
     "iopub.status.idle": "2023-07-26T21:08:20.263897Z",
     "shell.execute_reply.started": "2023-07-26T21:08:20.256595Z",
     "shell.execute_reply": "2023-07-26T21:08:20.262703Z"
    },
    "trusted": true,
    "id": "yrWdX6juKZOL"
   },
   "execution_count": null,
   "outputs": []
  },
  {
   "cell_type": "code",
   "source": [
    "# create train , val folders in data directory of yolov5\n",
    "train_dir = output_path + '/data/train'\n",
    "val_dir = output_path + '/data/val'\n",
    "\n",
    "if os.path.exists(train_dir):\n",
    "    shutil.rmtree(train_dir)\n",
    "\n",
    "if os.path.exists(val_dir):\n",
    "    shutil.rmtree(val_dir)\n",
    "\n",
    "os.mkdir(train_dir)\n",
    "os.mkdir(val_dir)\n",
    "\n",
    "# train, val each containing images and labels folders\n",
    "os.mkdir(train_dir + '/images')\n",
    "os.mkdir(train_dir + '/labels')\n",
    "os.mkdir(val_dir + '/images')\n",
    "os.mkdir(val_dir + '/labels')"
   ],
   "metadata": {
    "execution": {
     "iopub.status.busy": "2023-07-26T21:08:20.625211Z",
     "iopub.execute_input": "2023-07-26T21:08:20.625526Z",
     "iopub.status.idle": "2023-07-26T21:08:20.632438Z",
     "shell.execute_reply.started": "2023-07-26T21:08:20.625498Z",
     "shell.execute_reply": "2023-07-26T21:08:20.63137Z"
    },
    "trusted": true,
    "id": "tonWWTIHKZOL"
   },
   "execution_count": null,
   "outputs": []
  },
  {
   "cell_type": "code",
   "source": [
    "# Shuffle image file names before splitting into train and val data\n",
    "files = os.listdir(images_path)\n",
    "shuffle(files)"
   ],
   "metadata": {
    "execution": {
     "iopub.status.busy": "2023-07-26T21:08:21.087253Z",
     "iopub.execute_input": "2023-07-26T21:08:21.087917Z",
     "iopub.status.idle": "2023-07-26T21:08:21.09489Z",
     "shell.execute_reply.started": "2023-07-26T21:08:21.087877Z",
     "shell.execute_reply": "2023-07-26T21:08:21.093969Z"
    },
    "trusted": true,
    "id": "caJLprBHKZOL"
   },
   "execution_count": null,
   "outputs": []
  },
  {
   "cell_type": "code",
   "source": [
    "def split(files, ratio):\n",
    "    elements = len(files)\n",
    "    middle = int(elements * ratio)\n",
    "    return [files[:middle], files[middle:]]\n",
    "\n",
    "\n",
    "def copy_files(images_path, labels_path, destination_path, files):\n",
    "    for file_name in files:\n",
    "        file_name = file_name.split('.')[0]\n",
    "\n",
    "        src = images_path + f'/{file_name}.png'\n",
    "        dst = destination_path + '/images'\n",
    "        shutil.copy(src, dst)\n",
    "\n",
    "        src = labels_path + f'/{file_name}.txt'\n",
    "        dst = destination_path + '/labels'\n",
    "        shutil.copy(src, dst)"
   ],
   "metadata": {
    "execution": {
     "iopub.status.busy": "2023-07-26T21:08:21.445307Z",
     "iopub.execute_input": "2023-07-26T21:08:21.44566Z",
     "iopub.status.idle": "2023-07-26T21:08:21.453128Z",
     "shell.execute_reply.started": "2023-07-26T21:08:21.445628Z",
     "shell.execute_reply": "2023-07-26T21:08:21.452076Z"
    },
    "trusted": true,
    "id": "uA9SFtv8KZOL"
   },
   "execution_count": null,
   "outputs": []
  },
  {
   "cell_type": "code",
   "source": [
    "images_path, labels_path, train_dir"
   ],
   "metadata": {
    "execution": {
     "iopub.status.busy": "2023-07-26T21:08:21.823437Z",
     "iopub.execute_input": "2023-07-26T21:08:21.824093Z",
     "iopub.status.idle": "2023-07-26T21:08:21.830316Z",
     "shell.execute_reply.started": "2023-07-26T21:08:21.82406Z",
     "shell.execute_reply": "2023-07-26T21:08:21.829349Z"
    },
    "trusted": true,
    "id": "5VZ_dKuiKZOL",
    "colab": {
     "base_uri": "https://localhost:8080/"
    },
    "outputId": "74b24319-96ff-4899-dcab-f44e1e5941b8"
   },
   "execution_count": null,
   "outputs": []
  },
  {
   "cell_type": "code",
   "source": [
    "# Split and copy files in train and val folder\n",
    "train_ratio = 0.75\n",
    "train_files, val_files = split(files, train_ratio)\n",
    "\n",
    "root = 'data/traffic_sign_data'\n",
    "\n",
    "copy_files(images_path, labels_path, train_dir, train_files)\n",
    "copy_files(images_path, labels_path, val_dir, val_files)"
   ],
   "metadata": {
    "execution": {
     "iopub.status.busy": "2023-07-26T21:08:22.288839Z",
     "iopub.execute_input": "2023-07-26T21:08:22.289176Z",
     "iopub.status.idle": "2023-07-26T21:08:28.130569Z",
     "shell.execute_reply.started": "2023-07-26T21:08:22.289147Z",
     "shell.execute_reply": "2023-07-26T21:08:28.129554Z"
    },
    "trusted": true,
    "id": "b735gCuzKZOL"
   },
   "execution_count": null,
   "outputs": []
  },
  {
   "cell_type": "code",
   "source": [
    "assert (len(os.listdir(train_dir + '/images')) + len(os.listdir(val_dir + '/images')) == len(os.listdir(images_path)))"
   ],
   "metadata": {
    "execution": {
     "iopub.status.busy": "2023-07-26T21:08:28.132319Z",
     "iopub.execute_input": "2023-07-26T21:08:28.134348Z",
     "iopub.status.idle": "2023-07-26T21:08:28.141804Z",
     "shell.execute_reply.started": "2023-07-26T21:08:28.134319Z",
     "shell.execute_reply": "2023-07-26T21:08:28.140715Z"
    },
    "trusted": true,
    "id": "BOdbB6gpKZOM"
   },
   "execution_count": null,
   "outputs": []
  },
  {
   "cell_type": "code",
   "source": [
    "with open(f'{output_path}/data/sign_data.yaml', 'w') as f:\n",
    "    f.write('train: ../data/train/images\\n')\n",
    "    f.write('val: ../data/val/images\\n')\n",
    "    f.write('nc: 4\\n')\n",
    "    f.write(f\"names: {classes}\")"
   ],
   "metadata": {
    "execution": {
     "iopub.status.busy": "2023-07-26T21:08:28.143717Z",
     "iopub.execute_input": "2023-07-26T21:08:28.144076Z",
     "iopub.status.idle": "2023-07-26T21:08:28.151807Z",
     "shell.execute_reply.started": "2023-07-26T21:08:28.144045Z",
     "shell.execute_reply": "2023-07-26T21:08:28.150961Z"
    },
    "trusted": true,
    "id": "LBn2WVoUKZOM"
   },
   "execution_count": null,
   "outputs": []
  },
  {
   "cell_type": "code",
   "source": [
    "epochs = 20\n",
    "!python3../yolov5/train.py --img 640 --batch 16 --epochs {epochs} --data../data/kaggle/result/data/sign_data.yaml --weights yolov5s.pt"
   ],
   "metadata": {
    "execution": {
     "iopub.status.busy": "2023-07-26T21:08:33.111687Z",
     "iopub.execute_input": "2023-07-26T21:08:33.11235Z",
     "iopub.status.idle": "2023-07-26T21:21:31.990376Z",
     "shell.execute_reply.started": "2023-07-26T21:08:33.112296Z",
     "shell.execute_reply": "2023-07-26T21:21:31.989208Z"
    },
    "trusted": true,
    "id": "kCGKVglPKZOM",
    "colab": {
     "base_uri": "https://localhost:8080/"
    },
    "outputId": "1aa44ec4-e5aa-4ff0-a124-b7b253141131"
   },
   "execution_count": null,
   "outputs": []
  },
  {
   "cell_type": "code",
   "source": [
    "# results stored in runs/train\n",
    "# get the last stored result\n",
    "exp = sorted(os.listdir(output_path + '/runs/train'))[-1]\n",
    "exp_path = output_path + '/runs/train/' + exp"
   ],
   "metadata": {
    "execution": {
     "iopub.status.busy": "2023-07-26T21:22:16.812448Z",
     "iopub.execute_input": "2023-07-26T21:22:16.81286Z",
     "iopub.status.idle": "2023-07-26T21:22:16.819087Z",
     "shell.execute_reply.started": "2023-07-26T21:22:16.812824Z",
     "shell.execute_reply": "2023-07-26T21:22:16.818192Z"
    },
    "trusted": true,
    "id": "B0rRxJBlKZOM"
   },
   "execution_count": null,
   "outputs": []
  },
  {
   "cell_type": "code",
   "source": [
    "os.listdir(exp_path)"
   ],
   "metadata": {
    "execution": {
     "iopub.status.busy": "2023-07-26T21:22:27.597277Z",
     "iopub.execute_input": "2023-07-26T21:22:27.597652Z",
     "iopub.status.idle": "2023-07-26T21:22:27.605623Z",
     "shell.execute_reply.started": "2023-07-26T21:22:27.59762Z",
     "shell.execute_reply": "2023-07-26T21:22:27.604673Z"
    },
    "trusted": true,
    "id": "5lai5fNbKZOM",
    "colab": {
     "base_uri": "https://localhost:8080/"
    },
    "outputId": "7a116bb0-1170-4eee-a4e4-1f2e272287cf"
   },
   "execution_count": null,
   "outputs": []
  },
  {
   "cell_type": "code",
   "source": [
    "!zip -r/content/trainexp.zip/content/kaggle/working/yolov5/runs/train"
   ],
   "metadata": {
    "id": "5-8GkrJVKZON",
    "colab": {
     "base_uri": "https://localhost:8080/"
    },
    "outputId": "43ba6427-2e16-453b-9617-965f3cc4bb1d"
   },
   "execution_count": null,
   "outputs": []
  }
 ]
}
